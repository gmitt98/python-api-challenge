{
 "cells": [
  {
   "cell_type": "markdown",
   "metadata": {},
   "source": [
    "# WeatherPy\n",
    "\n",
    "---\n",
    "\n",
    "## Starter Code to Generate Random Geographic Coordinates and a List of Cities"
   ]
  },
  {
   "cell_type": "code",
   "execution_count": 2,
   "metadata": {
    "scrolled": true
   },
   "outputs": [],
   "source": [
    "# Dependencies and Setup\n",
    "import matplotlib.pyplot as plt\n",
    "import pandas as pd\n",
    "import numpy as np\n",
    "import requests\n",
    "import time\n",
    "from scipy.stats import linregress\n",
    "\n",
    "# Impor the OpenWeatherMap API key\n",
    "from api_keys import weather_api_key\n",
    "#print(weather_api_key)\n",
    "\n",
    "# Import citipy2 to determine the cities based on latitude and longitude ### SEE NOTE FOR NEW MODULE\n",
    "import citipy2"
   ]
  },
  {
   "attachments": {},
   "cell_type": "markdown",
   "metadata": {},
   "source": [
    "### Generate the Cities List by Using the `citipy2` Library"
   ]
  },
  {
   "cell_type": "code",
   "execution_count": 4,
   "metadata": {},
   "outputs": [
    {
     "name": "stdout",
     "output_type": "stream",
     "text": [
      "Number of cities in the list: 635\n"
     ]
    }
   ],
   "source": [
    "# Empty list for holding the latitude and longitude combinations\n",
    "lat_lngs = []\n",
    "\n",
    "# Empty list for holding the cities names\n",
    "cities = []\n",
    "\n",
    "# Range of latitudes and longitudes\n",
    "lat_range = (-90, 90)\n",
    "lng_range = (-180, 180)\n",
    "\n",
    "# Create a set of random lat and lng combinations\n",
    "lats = np.random.uniform(lat_range[0], lat_range[1], size=1500)\n",
    "lngs = np.random.uniform(lng_range[0], lng_range[1], size=1500)\n",
    "lat_lngs = zip(lats, lngs)\n",
    "\n",
    "# Identify nearest city for each lat, lng combination\n",
    "# AND push the actual lat, lng for those cities into new lists\n",
    "true_lats = []\n",
    "true_lngs = []\n",
    "for lat_lng in lat_lngs:\n",
    "    city = citipy2.nearest_city(lat_lng[0], lat_lng[1])\n",
    "    mycityname = city.city_name\n",
    "    \n",
    "    # If the city is unique, then add it to a our cities list\n",
    "    # note: I see that this given code is only taking unique city names.\n",
    "    if mycityname not in cities:\n",
    "        cities.append(mycityname)\n",
    "        city_lat = city.city_lat\n",
    "        true_lats.append(city_lat)\n",
    "        city_lng = city.city_long\n",
    "        true_lngs.append(city_lng)\n",
    "\n",
    "# Print the city count to confirm sufficient count\n",
    "print(f\"Number of cities in the list: {len(cities)}\")\n",
    "#shortcities = cities[0:100]\n",
    "#print(shortcities)"
   ]
  },
  {
   "cell_type": "code",
   "execution_count": 8,
   "metadata": {},
   "outputs": [
    {
     "name": "stdout",
     "output_type": "stream",
     "text": [
      "jamestown -15.9333333 -5.7166667\n",
      "('-15.9333333', '-5.7166667')\n",
      "hithadhoo -0.6 73.0833333\n",
      "('-0.6', '73.0833333')\n"
     ]
    }
   ],
   "source": [
    "# sanity checks\n",
    "print(cities[0], true_lats[0], true_lngs[0])\n",
    "print(citipy2.get_coordinates('jamestown'))\n",
    "\n",
    "print(cities[24], true_lats[24], true_lngs[24])\n",
    "print(citipy2.get_coordinates('hithadhoo'))"
   ]
  },
  {
   "cell_type": "markdown",
   "metadata": {},
   "source": [
    "---"
   ]
  },
  {
   "cell_type": "markdown",
   "metadata": {},
   "source": [
    "## Requirement 1: Create Plots to Showcase the Relationship Between Weather Variables and Latitude\n",
    "\n",
    "### Use the OpenWeatherMap API to retrieve weather data from the cities list generated in the started code"
   ]
  },
  {
   "cell_type": "code",
   "execution_count": null,
   "metadata": {},
   "outputs": [],
   "source": [
    "# Something seemed wrong with the provided code. It is possible that I just mangled it but I was having a hard time with the citypy module.\n",
    "# The first issue is that the random coordinates were assigned a city, but not corrected to the true coordinates of that city.\n",
    "# Thus, when I mapped it, the city name appeared next to a dot that was often in the middle of nowhere (like the ocean).\n",
    "# Also, when I searched for hotels in the next section of the homework, many cities had no hotels because of their distance from anywhere.\n",
    "# There is a second issue in VSCode where it sometimes (but not always) says that citipy does not have a nearest_city attribute. Sometimes code just stops working.\n",
    "\n",
    "# I attempted to update the code here to the following logic instead:\n",
    "# - Get random coordinates\n",
    "# - Find the nearest city to those coordinates\n",
    "# - Get the real coordinates for that city\n",
    "# - Then call the API with real coordinates to get actual weather data for the city, rather than the random coordinates that we selected randomly\n",
    "\n",
    "# Note: this is also what appears to be necessary to get a result looking like the example map, which has no marks in the ocean, which wouldn't happen with true random coordinates\n",
    "\n",
    "# Additionally, the citipy module does not have the ability to feed in a city and return coordinates and typing it up on it's own was a pain.\n",
    "# I thought about contributing that to the citipy module but don't want to break things.\n",
    "# Instead, I copied the module to a new module and edited that. The new module is citipy2. This puts required features in that module and keeps this notebook cleaner.\n",
    "# This new module is in the same directory as this notebook, and uses the same csv for data, which I also copied over.\n",
    "# I am adding this citipy2 module to github so it can be reviewed as part of this work.\n",
    "\n",
    "# Features added in citipy2:\n",
    "# 1) city object has latitude and longitude. I use this below.\n",
    "# 2) created function that takes a city input as a string and returns coordinates (works for the first city in the list, beware duplicates). Used in testing."
   ]
  },
  {
   "cell_type": "code",
   "execution_count": 3,
   "metadata": {},
   "outputs": [
    {
     "name": "stdout",
     "output_type": "stream",
     "text": [
      "Beginning Data Retrieval     \n",
      "-----------------------------\n",
      "Processing Record 1 of Set 1 | mataura\n",
      "Processing Record 2 of Set 1 | cape town\n",
      "Processing Record 3 of Set 1 | castro\n",
      "Processing Record 4 of Set 1 | lebu\n",
      "Processing Record 5 of Set 1 | provideniya\n",
      "Processing Record 6 of Set 1 | lavrentiya\n",
      "Processing Record 7 of Set 1 | hilo\n",
      "Processing Record 8 of Set 1 | vaitupu\n",
      "Processing Record 9 of Set 1 | sebinkarahisar\n",
      "Processing Record 10 of Set 1 | busselton\n",
      "Processing Record 11 of Set 1 | cayenne\n",
      "Processing Record 12 of Set 1 | barrow\n",
      "Processing Record 13 of Set 1 | kloulklubed\n",
      "Processing Record 14 of Set 1 | tasiilaq\n",
      "Processing Record 15 of Set 1 | pangnirtung\n",
      "Processing Record 16 of Set 1 | benguela\n",
      "Processing Record 17 of Set 1 | kapaa\n",
      "Processing Record 18 of Set 1 | barentsburg\n",
      "Processing Record 19 of Set 1 | saskylakh\n",
      "Processing Record 20 of Set 1 | paramonga\n",
      "Processing Record 21 of Set 1 | mount isa\n",
      "Processing Record 22 of Set 1 | fiumicino\n",
      "Processing Record 23 of Set 1 | comarapa\n",
      "Processing Record 24 of Set 1 | fortuna\n",
      "Processing Record 25 of Set 1 | qostanay\n",
      "Processing Record 26 of Set 1 | mangrol\n",
      "Processing Record 27 of Set 1 | hobart\n",
      "Processing Record 28 of Set 1 | belushya guba\n",
      "Processing Record 29 of Set 1 | kodiak\n",
      "Processing Record 30 of Set 1 | punta arenas\n",
      "Processing Record 31 of Set 1 | rikitea\n",
      "Processing Record 32 of Set 1 | hun\n",
      "Processing Record 33 of Set 1 | sanlucar la mayor\n",
      "Processing Record 34 of Set 1 | east london\n",
      "Processing Record 35 of Set 1 | balkhash\n",
      "Processing Record 36 of Set 1 | hermanus\n",
      "Processing Record 37 of Set 1 | tiksi\n",
      "Processing Record 38 of Set 1 | harper\n",
      "Processing Record 39 of Set 1 | salalah\n",
      "Processing Record 40 of Set 1 | tuktoyaktuk\n",
      "Processing Record 41 of Set 1 | hithadhoo\n",
      "Processing Record 42 of Set 1 | mandera\n",
      "Processing Record 43 of Set 1 | sentyabrskiy\n",
      "Processing Record 44 of Set 1 | ancud\n",
      "Processing Record 45 of Set 1 | bredasdorp\n",
      "Processing Record 46 of Set 1 | san carlos\n",
      "Processing Record 47 of Set 1 | ocampo\n",
      "Processing Record 48 of Set 1 | moratuwa\n",
      "Processing Record 49 of Set 1 | ushuaia\n",
      "Processing Record 50 of Set 1 | taolanaro\n",
      "Processing Record 0 of Set 2 | champerico\n",
      "Processing Record 1 of Set 2 | tautira\n",
      "Processing Record 2 of Set 2 | eenhana\n",
      "Processing Record 3 of Set 2 | ranong\n",
      "Processing Record 4 of Set 2 | klaksvik\n",
      "Processing Record 5 of Set 2 | chokurdakh\n",
      "Processing Record 6 of Set 2 | buraydah\n",
      "Processing Record 7 of Set 2 | atuona\n",
      "Processing Record 8 of Set 2 | zhanakorgan\n",
      "Processing Record 9 of Set 2 | norman wells\n",
      "Processing Record 10 of Set 2 | port elizabeth\n",
      "Processing Record 11 of Set 2 | avarua\n",
      "Processing Record 12 of Set 2 | cidreira\n",
      "Processing Record 13 of Set 2 | mar del plata\n",
      "Processing Record 14 of Set 2 | falam\n",
      "Processing Record 15 of Set 2 | guerrero negro\n",
      "Processing Record 16 of Set 2 | yeppoon\n",
      "Processing Record 17 of Set 2 | hajnowka\n",
      "Processing Record 18 of Set 2 | narsaq\n",
      "Processing Record 19 of Set 2 | cabo san lucas\n",
      "Processing Record 20 of Set 2 | ascension\n",
      "Processing Record 21 of Set 2 | vaini\n",
      "Processing Record 22 of Set 2 | blytheville\n",
      "Processing Record 23 of Set 2 | sambava\n",
      "Processing Record 24 of Set 2 | butaritari\n",
      "Processing Record 25 of Set 2 | alofi\n",
      "Processing Record 26 of Set 2 | vardo\n",
      "Processing Record 27 of Set 2 | saldanha\n",
      "Processing Record 28 of Set 2 | nylstroom\n",
      "Processing Record 29 of Set 2 | guilin\n",
      "Processing Record 30 of Set 2 | itoman\n",
      "Processing Record 31 of Set 2 | new norfolk\n",
      "Processing Record 32 of Set 2 | yulara\n",
      "Processing Record 33 of Set 2 | kahului\n",
      "Processing Record 34 of Set 2 | yellowknife\n",
      "Processing Record 35 of Set 2 | sulphur springs\n",
      "Processing Record 36 of Set 2 | lolua\n",
      "Processing Record 37 of Set 2 | faanui\n",
      "Processing Record 38 of Set 2 | sergeyevka\n",
      "Processing Record 39 of Set 2 | isabela\n",
      "Processing Record 40 of Set 2 | luganville\n",
      "Processing Record 41 of Set 2 | hobyo\n",
      "Processing Record 42 of Set 2 | georgetown\n",
      "Processing Record 43 of Set 2 | dingle\n",
      "Processing Record 44 of Set 2 | kruisfontein\n",
      "Processing Record 45 of Set 2 | okha\n",
      "Processing Record 46 of Set 2 | ivanteyevka\n",
      "Processing Record 47 of Set 2 | noumea\n",
      "Processing Record 48 of Set 2 | ondangwa\n",
      "Processing Record 49 of Set 2 | chagda\n",
      "Processing Record 0 of Set 3 | albany\n",
      "Processing Record 1 of Set 3 | scottsbluff\n",
      "Processing Record 2 of Set 3 | leningradskiy\n",
      "Processing Record 3 of Set 3 | karaton\n",
      "Processing Record 4 of Set 3 | lorengau\n",
      "Processing Record 5 of Set 3 | skjervoy\n",
      "Processing Record 6 of Set 3 | arraial do cabo\n",
      "Processing Record 7 of Set 3 | mrirt\n",
      "Processing Record 8 of Set 3 | bluff\n",
      "Processing Record 9 of Set 3 | opunake\n",
      "Processing Record 10 of Set 3 | bukachacha\n",
      "Processing Record 11 of Set 3 | manicore\n",
      "Processing Record 12 of Set 3 | nuuk\n",
      "Processing Record 13 of Set 3 | yerbogachen\n",
      "Processing Record 14 of Set 3 | gat\n",
      "Processing Record 15 of Set 3 | russkiy aktash\n",
      "Processing Record 16 of Set 3 | carnarvon\n",
      "Processing Record 17 of Set 3 | chifeng\n",
      "Processing Record 18 of Set 3 | alamogordo\n",
      "Processing Record 19 of Set 3 | saint-philippe\n",
      "Processing Record 20 of Set 3 | progreso\n",
      "Processing Record 21 of Set 3 | naron\n",
      "Processing Record 22 of Set 3 | saint-leu\n",
      "Processing Record 23 of Set 3 | sitka\n",
      "Processing Record 24 of Set 3 | nouakchott\n",
      "Processing Record 25 of Set 3 | rio grande\n",
      "Processing Record 26 of Set 3 | koutiala\n",
      "Processing Record 27 of Set 3 | port alfred\n",
      "Processing Record 28 of Set 3 | luderitz\n",
      "Processing Record 29 of Set 3 | castanos\n",
      "Processing Record 30 of Set 3 | svetlogorsk\n",
      "Processing Record 31 of Set 3 | jamestown\n",
      "Processing Record 32 of Set 3 | jutai\n",
      "Processing Record 33 of Set 3 | dikson\n",
      "Processing Record 34 of Set 3 | faya\n",
      "Processing Record 35 of Set 3 | williston\n",
      "Processing Record 36 of Set 3 | sidi ali\n",
      "Processing Record 37 of Set 3 | falmouth\n",
      "Processing Record 38 of Set 3 | umm lajj\n",
      "Processing Record 39 of Set 3 | jawhar\n",
      "Processing Record 40 of Set 3 | parit buntar\n",
      "Processing Record 41 of Set 3 | sioux lookout\n",
      "Processing Record 42 of Set 3 | puerto ayora\n",
      "Processing Record 43 of Set 3 | victoria\n",
      "Processing Record 44 of Set 3 | beringovskiy\n",
      "Processing Record 45 of Set 3 | newport\n",
      "Processing Record 46 of Set 3 | aklavik\n",
      "Processing Record 47 of Set 3 | vokhtoga\n",
      "Processing Record 48 of Set 3 | nanortalik\n",
      "Processing Record 49 of Set 3 | gondal\n",
      "Processing Record 0 of Set 4 | san juan\n",
      "Processing Record 1 of Set 4 | bethel\n",
      "Processing Record 2 of Set 4 | longyearbyen\n",
      "Processing Record 3 of Set 4 | madaoua\n",
      "Processing Record 4 of Set 4 | pevek\n",
      "Processing Record 5 of Set 4 | ribeira grande\n",
      "Processing Record 6 of Set 4 | iqaluit\n",
      "Processing Record 7 of Set 4 | sakhon nakhon\n",
      "Processing Record 8 of Set 4 | nizhniy kuranakh\n",
      "Processing Record 9 of Set 4 | paraiso\n",
      "Processing Record 10 of Set 4 | esperance\n",
      "Processing Record 11 of Set 4 | amderma\n",
      "Processing Record 12 of Set 4 | arteaga\n",
      "Processing Record 13 of Set 4 | louisbourg\n",
      "Processing Record 14 of Set 4 | bilibino\n",
      "Processing Record 15 of Set 4 | coolum beach\n",
      "Processing Record 16 of Set 4 | curuca\n",
      "Processing Record 17 of Set 4 | samusu\n",
      "Processing Record 18 of Set 4 | mokhsogollokh\n",
      "Processing Record 19 of Set 4 | huanren\n",
      "Processing Record 20 of Set 4 | belmonte\n",
      "Processing Record 21 of Set 4 | hamilton\n",
      "Processing Record 22 of Set 4 | saint-augustin\n",
      "Processing Record 23 of Set 4 | beidao\n",
      "Processing Record 24 of Set 4 | paraguacu\n",
      "Processing Record 25 of Set 4 | attawapiskat\n",
      "Processing Record 26 of Set 4 | plaeng yao\n",
      "Processing Record 27 of Set 4 | labuhan\n",
      "Processing Record 28 of Set 4 | illoqqortoormiut\n",
      "Processing Record 29 of Set 4 | makakilo city\n",
      "Processing Record 30 of Set 4 | qaanaaq\n",
      "Processing Record 31 of Set 4 | saint-pierre\n",
      "Processing Record 32 of Set 4 | katsuura\n",
      "Processing Record 33 of Set 4 | dukat\n",
      "Processing Record 34 of Set 4 | chuy\n",
      "Processing Record 35 of Set 4 | tuy hoa\n",
      "Processing Record 36 of Set 4 | arrifes\n",
      "Processing Record 37 of Set 4 | severo-kurilsk\n",
      "Processing Record 38 of Set 4 | gornopravdinsk\n",
      "Processing Record 39 of Set 4 | tome-acu\n",
      "Processing Record 40 of Set 4 | bambous virieux\n",
      "Processing Record 41 of Set 4 | san carlos de bariloche\n",
      "Processing Record 42 of Set 4 | bintulu\n",
      "Processing Record 43 of Set 4 | huarmey\n",
      "Processing Record 44 of Set 4 | kirgiz-miyaki\n",
      "Processing Record 45 of Set 4 | harlev\n",
      "Processing Record 46 of Set 4 | trat\n",
      "Processing Record 47 of Set 4 | naples\n",
      "Processing Record 48 of Set 4 | chulman\n",
      "Processing Record 49 of Set 4 | tsihombe\n",
      "Processing Record 0 of Set 5 | chapais\n",
      "Processing Record 1 of Set 5 | srostki\n",
      "Processing Record 2 of Set 5 | fort nelson\n",
      "Processing Record 3 of Set 5 | saint george\n",
      "Processing Record 4 of Set 5 | lagoa\n",
      "Processing Record 5 of Set 5 | clyde river\n",
      "Processing Record 6 of Set 5 | nayoro\n",
      "Processing Record 7 of Set 5 | diego de almagro\n",
      "Processing Record 8 of Set 5 | bathsheba\n",
      "Processing Record 9 of Set 5 | boa vista\n",
      "Processing Record 10 of Set 5 | khovu-aksy\n",
      "Processing Record 11 of Set 5 | yurimaguas\n",
      "Processing Record 12 of Set 5 | raudeberg\n",
      "Processing Record 13 of Set 5 | varhaug\n",
      "Processing Record 14 of Set 5 | roald\n",
      "Processing Record 15 of Set 5 | sola\n",
      "Processing Record 16 of Set 5 | tilichiki\n",
      "Processing Record 17 of Set 5 | hualmay\n",
      "Processing Record 18 of Set 5 | mount gambier\n",
      "Processing Record 19 of Set 5 | upernavik\n",
      "Processing Record 20 of Set 5 | sterling\n",
      "Processing Record 21 of Set 5 | srandakan\n",
      "Processing Record 22 of Set 5 | christchurch\n",
      "Processing Record 23 of Set 5 | langen\n",
      "Processing Record 24 of Set 5 | thompson\n",
      "Processing Record 25 of Set 5 | xai-xai\n",
      "Processing Record 26 of Set 5 | luanda\n",
      "Processing Record 27 of Set 5 | vikhorevka\n",
      "Processing Record 28 of Set 5 | la ronge\n",
      "Processing Record 29 of Set 5 | jumla\n",
      "Processing Record 30 of Set 5 | ozinki\n",
      "Processing Record 31 of Set 5 | grindavik\n",
      "Processing Record 32 of Set 5 | bacolod\n",
      "Processing Record 33 of Set 5 | sabang\n",
      "Processing Record 34 of Set 5 | egvekinot\n",
      "Processing Record 35 of Set 5 | isangel\n",
      "Processing Record 36 of Set 5 | ponta do sol\n",
      "Processing Record 37 of Set 5 | yaan\n",
      "Processing Record 38 of Set 5 | mitsamiouli\n",
      "Processing Record 39 of Set 5 | san quintin\n",
      "Processing Record 40 of Set 5 | caravelas\n",
      "Processing Record 41 of Set 5 | vao\n",
      "Processing Record 42 of Set 5 | nome\n",
      "Processing Record 43 of Set 5 | krian\n",
      "Processing Record 44 of Set 5 | haines junction\n",
      "Processing Record 45 of Set 5 | nouadhibou\n",
      "Processing Record 46 of Set 5 | sobradinho\n",
      "Processing Record 47 of Set 5 | porto novo\n",
      "Processing Record 48 of Set 5 | jinxiang\n",
      "Processing Record 49 of Set 5 | burica\n",
      "Processing Record 0 of Set 6 | plettenberg bay\n",
      "Processing Record 1 of Set 6 | mahon\n",
      "Processing Record 2 of Set 6 | chadiza\n",
      "Processing Record 3 of Set 6 | namwala\n",
      "Processing Record 4 of Set 6 | port macquarie\n",
      "Processing Record 5 of Set 6 | chaman\n",
      "Processing Record 6 of Set 6 | bilma\n",
      "Processing Record 7 of Set 6 | fort saint john\n",
      "Processing Record 8 of Set 6 | port lincoln\n",
      "Processing Record 9 of Set 6 | khatanga\n",
      "Processing Record 10 of Set 6 | jardim\n",
      "Processing Record 11 of Set 6 | saint-joseph\n",
      "Processing Record 12 of Set 6 | tombouctou\n",
      "Processing Record 13 of Set 6 | eureka\n",
      "Processing Record 14 of Set 6 | kavieng\n",
      "Processing Record 15 of Set 6 | karaul\n",
      "Processing Record 16 of Set 6 | bulgan\n",
      "Processing Record 17 of Set 6 | iquique\n",
      "Processing Record 18 of Set 6 | galgani\n",
      "Processing Record 19 of Set 6 | santa maria\n",
      "Processing Record 20 of Set 6 | nguiu\n",
      "Processing Record 21 of Set 6 | mahebourg\n",
      "Processing Record 22 of Set 6 | nemuro\n",
      "Processing Record 23 of Set 6 | barra\n",
      "Processing Record 24 of Set 6 | boralday\n",
      "Processing Record 25 of Set 6 | sovetskiy\n",
      "Processing Record 26 of Set 6 | namatanai\n",
      "Processing Record 27 of Set 6 | ferrol\n",
      "Processing Record 28 of Set 6 | venice\n",
      "Processing Record 29 of Set 6 | touros\n",
      "Processing Record 30 of Set 6 | burnie\n",
      "Processing Record 31 of Set 6 | bengkulu\n",
      "Processing Record 32 of Set 6 | kaitangata\n",
      "Processing Record 33 of Set 6 | kogon\n",
      "Processing Record 34 of Set 6 | tura\n",
      "Processing Record 35 of Set 6 | ahipara\n",
      "Processing Record 36 of Set 6 | hasaki\n",
      "Processing Record 37 of Set 6 | vostok\n",
      "Processing Record 38 of Set 6 | dwarka\n",
      "Processing Record 39 of Set 6 | luchegorsk\n",
      "Processing Record 40 of Set 6 | anchorage\n",
      "Processing Record 41 of Set 6 | dabola\n",
      "Processing Record 42 of Set 6 | alice\n",
      "Processing Record 43 of Set 6 | yankton\n",
      "Processing Record 44 of Set 6 | gilgit\n",
      "Processing Record 45 of Set 6 | omsukchan\n",
      "Processing Record 46 of Set 6 | zhicheng\n",
      "Processing Record 47 of Set 6 | sao filipe\n",
      "Processing Record 48 of Set 6 | vestmannaeyjar\n",
      "Processing Record 49 of Set 6 | naryan-mar\n",
      "Processing Record 0 of Set 7 | bargal\n",
      "Processing Record 1 of Set 7 | biak\n",
      "Processing Record 2 of Set 7 | waterloo\n",
      "Processing Record 3 of Set 7 | grand river south east\n",
      "Processing Record 4 of Set 7 | nevsehir\n",
      "Processing Record 5 of Set 7 | suchiapa\n",
      "Processing Record 6 of Set 7 | hofn\n",
      "Processing Record 7 of Set 7 | peniche\n",
      "Processing Record 8 of Set 7 | yirol\n",
      "Processing Record 9 of Set 7 | talnakh\n",
      "Processing Record 10 of Set 7 | terrace\n",
      "Processing Record 11 of Set 7 | loreto\n",
      "Processing Record 12 of Set 7 | petropavlovsk-kamchatskiy\n",
      "Processing Record 13 of Set 7 | nizhneyansk\n",
      "Processing Record 14 of Set 7 | san-pedro\n",
      "Processing Record 15 of Set 7 | santa luzia\n",
      "Processing Record 16 of Set 7 | airai\n",
      "Processing Record 17 of Set 7 | broome\n",
      "Processing Record 18 of Set 7 | vila velha\n",
      "Processing Record 19 of Set 7 | artyk\n",
      "Processing Record 20 of Set 7 | lakes entrance\n",
      "Processing Record 21 of Set 7 | nikolskoye\n",
      "Processing Record 22 of Set 7 | garissa\n",
      "Processing Record 23 of Set 7 | thetford mines\n",
      "Processing Record 24 of Set 7 | khuzhir\n",
      "Processing Record 25 of Set 7 | krasnoselkup\n",
      "Processing Record 26 of Set 7 | leh\n",
      "Processing Record 27 of Set 7 | jinchang\n",
      "Processing Record 28 of Set 7 | jalu\n",
      "Processing Record 29 of Set 7 | irtyshskiy\n",
      "Processing Record 30 of Set 7 | arroyo\n",
      "Processing Record 31 of Set 7 | kirovskiy\n",
      "Processing Record 32 of Set 7 | gweru\n",
      "Processing Record 33 of Set 7 | tuatapere\n",
      "Processing Record 34 of Set 7 | ayan\n",
      "Processing Record 35 of Set 7 | valparaiso\n",
      "Processing Record 36 of Set 7 | ha tinh\n",
      "Processing Record 37 of Set 7 | aflu\n",
      "Processing Record 38 of Set 7 | semey\n",
      "Processing Record 39 of Set 7 | zhanaozen\n",
      "Processing Record 40 of Set 7 | komsomolsk\n",
      "Processing Record 41 of Set 7 | humberto de campos\n",
      "Processing Record 42 of Set 7 | hami\n",
      "Processing Record 43 of Set 7 | kenora\n",
      "Processing Record 44 of Set 7 | watertown\n",
      "Processing Record 45 of Set 7 | lethem\n",
      "Processing Record 46 of Set 7 | isla vista\n",
      "Processing Record 47 of Set 7 | carros\n",
      "Processing Record 48 of Set 7 | canguaretama\n",
      "Processing Record 49 of Set 7 | dubbo\n",
      "Processing Record 0 of Set 8 | ambunti\n",
      "Processing Record 1 of Set 8 | jining\n",
      "Processing Record 2 of Set 8 | taltal\n",
      "Processing Record 3 of Set 8 | pacifica\n",
      "Processing Record 4 of Set 8 | okhotsk\n",
      "Processing Record 5 of Set 8 | parvatipuram\n",
      "Processing Record 6 of Set 8 | samarai\n",
      "Processing Record 7 of Set 8 | dzhusaly\n",
      "Processing Record 8 of Set 8 | camacha\n",
      "Processing Record 9 of Set 8 | itaituba\n",
      "Processing Record 10 of Set 8 | arman\n",
      "Processing Record 11 of Set 8 | coquimbo\n",
      "Processing Record 12 of Set 8 | nizhniy odes\n",
      "Processing Record 13 of Set 8 | birjand\n",
      "Processing Record 14 of Set 8 | zhigansk\n",
      "Processing Record 15 of Set 8 | amapa\n",
      "Processing Record 16 of Set 8 | cockburn town\n",
      "Processing Record 17 of Set 8 | los llanos de aridane\n",
      "Processing Record 18 of Set 8 | luce\n",
      "Processing Record 19 of Set 8 | himora\n",
      "Processing Record 20 of Set 8 | cervo\n",
      "Processing Record 21 of Set 8 | maceio\n",
      "Processing Record 22 of Set 8 | jabinyanah\n",
      "Processing Record 23 of Set 8 | ikungi\n",
      "Processing Record 24 of Set 8 | nago\n",
      "Processing Record 25 of Set 8 | ewa beach\n",
      "Processing Record 26 of Set 8 | kulhudhuffushi\n",
      "Processing Record 27 of Set 8 | wunsiedel\n",
      "Processing Record 28 of Set 8 | rawalpindi\n",
      "Processing Record 29 of Set 8 | certeze\n",
      "Processing Record 30 of Set 8 | west wendover\n",
      "Processing Record 31 of Set 8 | aguimes\n",
      "Processing Record 32 of Set 8 | kutum\n",
      "Processing Record 33 of Set 8 | jurm\n",
      "Processing Record 34 of Set 8 | troitsk\n",
      "Processing Record 35 of Set 8 | paso de los toros\n",
      "Processing Record 36 of Set 8 | tidore\n",
      "Processing Record 37 of Set 8 | kempele\n",
      "Processing Record 38 of Set 8 | poum\n",
      "Processing Record 39 of Set 8 | necochea\n",
      "Processing Record 40 of Set 8 | aswan\n",
      "Processing Record 41 of Set 8 | mandalgovi\n",
      "Processing Record 42 of Set 8 | asyut\n",
      "Processing Record 43 of Set 8 | otacilio costa\n",
      "Processing Record 44 of Set 8 | port-cartier\n",
      "Processing Record 45 of Set 8 | beloha\n",
      "Processing Record 46 of Set 8 | nuzvid\n",
      "Processing Record 47 of Set 8 | richards bay\n",
      "Processing Record 48 of Set 8 | iwanai\n",
      "Processing Record 49 of Set 8 | constitucion\n",
      "Processing Record 0 of Set 9 | ribas do rio pardo\n",
      "Processing Record 1 of Set 9 | guatire\n",
      "Processing Record 2 of Set 9 | rio gallegos\n",
      "Processing Record 3 of Set 9 | qabis\n",
      "Processing Record 4 of Set 9 | athabasca\n",
      "Processing Record 5 of Set 9 | chernyshevskiy\n",
      "Processing Record 6 of Set 9 | argayash\n",
      "Processing Record 7 of Set 9 | show low\n",
      "Processing Record 8 of Set 9 | praia da vitoria\n",
      "Processing Record 9 of Set 9 | souillac\n",
      "Processing Record 10 of Set 9 | asfi\n",
      "Processing Record 11 of Set 9 | ciudad guayana\n",
      "Processing Record 12 of Set 9 | vajszlo\n",
      "Processing Record 13 of Set 9 | barbar\n",
      "Processing Record 14 of Set 9 | kutoarjo\n",
      "Processing Record 15 of Set 9 | ust-ilimsk\n",
      "Processing Record 16 of Set 9 | rovenki\n",
      "Processing Record 17 of Set 9 | phan rang\n",
      "Processing Record 18 of Set 9 | vanavara\n",
      "Processing Record 19 of Set 9 | grand-santi\n",
      "Processing Record 20 of Set 9 | sobolevo\n",
      "Processing Record 21 of Set 9 | olden\n",
      "Processing Record 22 of Set 9 | natal\n",
      "Processing Record 23 of Set 9 | puerto ayacucho\n",
      "Processing Record 24 of Set 9 | severnyy\n",
      "Processing Record 25 of Set 9 | margate\n",
      "Processing Record 26 of Set 9 | saint-francois\n",
      "Processing Record 27 of Set 9 | ayagoz\n",
      "Processing Record 28 of Set 9 | skalistyy\n",
      "Processing Record 29 of Set 9 | port hedland\n",
      "Processing Record 30 of Set 9 | hovd\n",
      "Processing Record 31 of Set 9 | lata\n",
      "Processing Record 32 of Set 9 | coahuayana\n",
      "Processing Record 33 of Set 9 | quimper\n",
      "Processing Record 34 of Set 9 | panino\n",
      "Processing Record 35 of Set 9 | rocha\n",
      "Processing Record 36 of Set 9 | bolshaya murta\n",
      "Processing Record 37 of Set 9 | shaunavon\n",
      "Processing Record 38 of Set 9 | kudahuvadhoo\n",
      "Processing Record 39 of Set 9 | torbay\n",
      "Processing Record 40 of Set 9 | castanheira de pera\n",
      "Processing Record 41 of Set 9 | acurenam\n",
      "Processing Record 42 of Set 9 | rio linda\n",
      "Processing Record 43 of Set 9 | honningsvag\n",
      "Processing Record 44 of Set 9 | sume\n",
      "Processing Record 45 of Set 9 | belaya rechka\n",
      "Processing Record 46 of Set 9 | durham\n",
      "Processing Record 47 of Set 9 | acarau\n",
      "Processing Record 48 of Set 9 | sungaipenuh\n",
      "Processing Record 49 of Set 9 | najran\n",
      "Processing Record 0 of Set 10 | torrijos\n",
      "Processing Record 1 of Set 10 | rolim de moura\n",
      "Processing Record 2 of Set 10 | tumannyy\n",
      "Processing Record 3 of Set 10 | paamiut\n",
      "Processing Record 4 of Set 10 | mezen\n",
      "Processing Record 5 of Set 10 | werda\n",
      "Processing Record 6 of Set 10 | milisauti\n",
      "Processing Record 7 of Set 10 | antofagasta\n",
      "Processing Record 8 of Set 10 | banda aceh\n",
      "Processing Record 9 of Set 10 | sao joao da barra\n",
      "Processing Record 10 of Set 10 | huejuquilla el alto\n",
      "Processing Record 11 of Set 10 | phuket\n",
      "Processing Record 12 of Set 10 | gunjur\n",
      "Processing Record 13 of Set 10 | miraflores\n",
      "Processing Record 14 of Set 10 | rensvik\n",
      "Processing Record 15 of Set 10 | ola\n",
      "Processing Record 16 of Set 10 | berdigestyakh\n",
      "Processing Record 17 of Set 10 | san cristobal\n",
      "Processing Record 18 of Set 10 | warqla\n",
      "Processing Record 19 of Set 10 | claresholm\n",
      "Processing Record 20 of Set 10 | henties bay\n",
      "Processing Record 21 of Set 10 | masterton\n",
      "Processing Record 22 of Set 10 | pousat\n",
      "Processing Record 23 of Set 10 | batticaloa\n",
      "Processing Record 24 of Set 10 | kidal\n",
      "Processing Record 25 of Set 10 | lasa\n",
      "Processing Record 26 of Set 10 | ostrovnoy\n",
      "Processing Record 27 of Set 10 | peace river\n",
      "Processing Record 28 of Set 10 | bubaque\n",
      "Processing Record 29 of Set 10 | santiago del estero\n",
      "Processing Record 30 of Set 10 | bonthe\n",
      "Processing Record 31 of Set 10 | humaita\n",
      "Processing Record 32 of Set 10 | lompoc\n",
      "Processing Record 33 of Set 10 | westport\n",
      "Processing Record 34 of Set 10 | anadyr\n",
      "Processing Record 35 of Set 10 | swan hill\n",
      "Processing Record 36 of Set 10 | daxian\n",
      "Processing Record 37 of Set 10 | nagato\n",
      "Processing Record 38 of Set 10 | tsabong\n",
      "Processing Record 39 of Set 10 | ixtapa\n",
      "Processing Record 40 of Set 10 | ilulissat\n",
      "Processing Record 41 of Set 10 | delfzijl\n",
      "Processing Record 42 of Set 10 | hammerfest\n",
      "Processing Record 43 of Set 10 | sur\n",
      "Processing Record 44 of Set 10 | buchanan\n",
      "Processing Record 45 of Set 10 | gigmoto\n",
      "Processing Record 46 of Set 10 | tarakan\n",
      "Processing Record 47 of Set 10 | meyungs\n",
      "Processing Record 48 of Set 10 | svetlyy\n",
      "Processing Record 49 of Set 10 | nantucket\n",
      "Processing Record 0 of Set 11 | thinadhoo\n",
      "Processing Record 1 of Set 11 | laguna\n",
      "Processing Record 2 of Set 11 | ambilobe\n",
      "Processing Record 3 of Set 11 | tomatlan\n",
      "Processing Record 4 of Set 11 | ruatoria\n",
      "Processing Record 5 of Set 11 | sangmelima\n",
      "Processing Record 6 of Set 11 | tutoia\n",
      "Processing Record 7 of Set 11 | bur gabo\n",
      "Processing Record 8 of Set 11 | kashi\n",
      "Processing Record 9 of Set 11 | goundi\n",
      "Processing Record 10 of Set 11 | ode\n",
      "Processing Record 11 of Set 11 | el wasta\n",
      "Processing Record 12 of Set 11 | el alto\n",
      "Processing Record 13 of Set 11 | nador\n",
      "Processing Record 14 of Set 11 | gulf gate estates\n",
      "Processing Record 15 of Set 11 | belyy yar\n",
      "Processing Record 16 of Set 11 | raca\n",
      "Processing Record 17 of Set 11 | umm kaddadah\n",
      "Processing Record 18 of Set 11 | prince rupert\n",
      "Processing Record 19 of Set 11 | neuquen\n",
      "Processing Record 20 of Set 11 | lagos\n",
      "Processing Record 21 of Set 11 | husavik\n",
      "Processing Record 22 of Set 11 | indi\n",
      "Processing Record 23 of Set 11 | bundibugyo\n",
      "Processing Record 24 of Set 11 | sorland\n",
      "Processing Record 25 of Set 11 | honiara\n",
      "Processing Record 26 of Set 11 | elbistan\n",
      "Processing Record 27 of Set 11 | mys shmidta\n",
      "Processing Record 28 of Set 11 | port-gentil\n",
      "Processing Record 29 of Set 11 | sao joao batista\n",
      "Processing Record 30 of Set 11 | scarborough\n",
      "Processing Record 31 of Set 11 | zaria\n",
      "Processing Record 32 of Set 11 | tabou\n",
      "Processing Record 33 of Set 11 | yoichi\n",
      "Processing Record 34 of Set 11 | hirara\n",
      "Processing Record 35 of Set 11 | nobeoka\n",
      "Processing Record 36 of Set 11 | halalo\n",
      "Processing Record 37 of Set 11 | san vicente\n",
      "Processing Record 38 of Set 11 | arlit\n",
      "Processing Record 39 of Set 11 | lixourion\n",
      "Processing Record 40 of Set 11 | havoysund\n",
      "Processing Record 41 of Set 11 | bismarck\n",
      "Processing Record 42 of Set 11 | clovis\n",
      "Processing Record 43 of Set 11 | buenaventura\n",
      "Processing Record 44 of Set 11 | tigil\n",
      "Processing Record 45 of Set 11 | san patricio\n",
      "Processing Record 46 of Set 11 | pampa\n",
      "Processing Record 47 of Set 11 | karonga\n",
      "Processing Record 48 of Set 11 | fairbanks\n",
      "Processing Record 49 of Set 11 | santa cecilia\n",
      "Processing Record 0 of Set 12 | pisco\n",
      "Processing Record 1 of Set 12 | meulaboh\n",
      "Processing Record 2 of Set 12 | zhangjiakou\n",
      "Processing Record 3 of Set 12 | roblin\n",
      "Processing Record 4 of Set 12 | santa cruz\n",
      "Processing Record 5 of Set 12 | mlonggo\n",
      "Processing Record 6 of Set 12 | college\n",
      "Processing Record 7 of Set 12 | cassilandia\n",
      "Processing Record 8 of Set 12 | nanning\n",
      "Processing Record 9 of Set 12 | cherskiy\n",
      "Processing Record 10 of Set 12 | takoradi\n",
      "Processing Record 11 of Set 12 | pemba\n",
      "Processing Record 12 of Set 12 | unye\n",
      "Processing Record 13 of Set 12 | rorvik\n",
      "Processing Record 14 of Set 12 | broken hill\n",
      "Processing Record 15 of Set 12 | barawe\n",
      "Processing Record 16 of Set 12 | yermakovskoye\n",
      "Processing Record 17 of Set 12 | revelstoke\n",
      "Processing Record 18 of Set 12 | coihueco\n",
      "Processing Record 19 of Set 12 | srednekolymsk\n",
      "Processing Record 20 of Set 12 | chama\n",
      "Processing Record 21 of Set 12 | smithers\n",
      "Processing Record 22 of Set 12 | le vauclin\n",
      "Processing Record 23 of Set 12 | agua dulce\n",
      "Processing Record 24 of Set 12 | kawalu\n",
      "Processing Record 25 of Set 12 | bolobo\n",
      "Processing Record 26 of Set 12 | lulea\n",
      "Processing Record 27 of Set 12 | berlevag\n",
      "Processing Record 28 of Set 12 | leshukonskoye\n",
      "Processing Record 29 of Set 12 | severnoye\n",
      "Processing Record 30 of Set 12 | mgandu\n",
      "Processing Record 31 of Set 12 | geraldton\n",
      "Processing Record 32 of Set 12 | kyakhta\n",
      "Processing Record 33 of Set 12 | enshi\n",
      "Processing Record 34 of Set 12 | balykshi\n",
      "Processing Record 35 of Set 12 | riyadh\n",
      "Processing Record 36 of Set 12 | pineville\n",
      "Processing Record 37 of Set 12 | shiraz\n",
      "Processing Record 38 of Set 12 | barabinsk\n",
      "Processing Record 39 of Set 12 | falealupo\n",
      "Processing Record 40 of Set 12 | charters towers\n",
      "Processing Record 41 of Set 12 | beira\n",
      "Processing Record 42 of Set 12 | palabuhanratu\n",
      "Processing Record 43 of Set 12 | beaupre\n",
      "Processing Record 44 of Set 12 | khonuu\n",
      "Processing Record 45 of Set 12 | kichera\n",
      "Processing Record 46 of Set 12 | denpasar\n",
      "Processing Record 47 of Set 12 | nandu\n",
      "Processing Record 48 of Set 12 | khasan\n",
      "Processing Record 49 of Set 12 | mehamn\n",
      "Processing Record 0 of Set 13 | namibe\n",
      "Processing Record 1 of Set 13 | merauke\n",
      "Processing Record 2 of Set 13 | posse\n",
      "Processing Record 3 of Set 13 | fengcheng\n",
      "Processing Record 4 of Set 13 | cedar city\n",
      "Processing Record 5 of Set 13 | bela vista\n",
      "Processing Record 6 of Set 13 | kyren\n",
      "Processing Record 7 of Set 13 | morehead\n",
      "Processing Record 8 of Set 13 | santo tomas\n",
      "Processing Record 9 of Set 13 | sayyan\n",
      "Processing Record 10 of Set 13 | bani walid\n",
      "Processing Record 11 of Set 13 | nishihara\n",
      "Processing Record 12 of Set 13 | chaiya\n",
      "Processing Record 13 of Set 13 | timmins\n",
      "Processing Record 14 of Set 13 | seydi\n",
      "Processing Record 15 of Set 13 | puranpur\n",
      "Processing Record 16 of Set 13 | malampaka\n",
      "Processing Record 17 of Set 13 | saleaula\n",
      "Processing Record 18 of Set 13 | marzuq\n",
      "Processing Record 19 of Set 13 | amurzet\n",
      "Processing Record 20 of Set 13 | siwani\n",
      "Processing Record 21 of Set 13 | camacupa\n",
      "Processing Record 22 of Set 13 | linares\n",
      "Processing Record 23 of Set 13 | high level\n",
      "Processing Record 24 of Set 13 | cap malheureux\n",
      "Processing Record 25 of Set 13 | te anau\n",
      "Processing Record 26 of Set 13 | grande-riviere\n",
      "Processing Record 27 of Set 13 | sao felix do xingu\n",
      "Processing Record 28 of Set 13 | bud\n",
      "Processing Record 29 of Set 13 | lewisporte\n",
      "Processing Record 30 of Set 13 | tayoltita\n",
      "Processing Record 31 of Set 13 | balikpapan\n",
      "Processing Record 32 of Set 13 | baykit\n",
      "Processing Record 33 of Set 13 | portland\n",
      "Processing Record 34 of Set 13 | muravlenko\n",
      "Processing Record 35 of Set 13 | alberton\n",
      "Processing Record 36 of Set 13 | yancheng\n",
      "Processing Record 37 of Set 13 | san andres\n",
      "Processing Record 38 of Set 13 | abdanan\n",
      "Processing Record 39 of Set 13 | kampong chhnang\n",
      "Processing Record 40 of Set 13 | zeya\n",
      "Processing Record 41 of Set 13 | kushmurun\n",
      "Processing Record 42 of Set 13 | mugla\n",
      "Processing Record 43 of Set 13 | yuli\n",
      "Processing Record 44 of Set 13 | yar-sale\n",
      "Processing Record 45 of Set 13 | marrakesh\n",
      "Processing Record 46 of Set 13 | olinda\n",
      "Processing Record 47 of Set 13 | tefe\n",
      "Processing Record 48 of Set 13 | lima\n",
      "Processing Record 49 of Set 13 | sorong\n",
      "Processing Record 0 of Set 14 | sonqor\n",
      "-----------------------------\n",
      "Data Retrieval Complete      \n",
      "-----------------------------\n"
     ]
    }
   ],
   "source": [
    "# Set the API base URL\n",
    "url = \"https://api.openweathermap.org/data/3.0/onecall?lat={lat}&lon={lon}&exclude={part}&appid={API_key}\"\n",
    "\n",
    "# Define an empty list to fetch the weather data for each city\n",
    "city_data = []\n",
    "\n",
    "# Print to logger\n",
    "print(\"Beginning Data Retrieval     \")\n",
    "print(\"-----------------------------\")\n",
    "\n",
    "# Create counters\n",
    "record_count = 1\n",
    "set_count = 1\n",
    "\n",
    "# Loop through all the cities in our list to fetch weather data\n",
    "for i, city in enumerate(cities):\n",
    "        \n",
    "    # Group cities in sets of 50 for logging purposes\n",
    "    if (i % 50 == 0 and i >= 50):\n",
    "        set_count += 1\n",
    "        record_count = 0\n",
    "\n",
    "    # Create endpoint URL with each city\n",
    "    #print(lats[i], lngs[i])\n",
    "    mylats = true_lats[i]\n",
    "    mylngs = true_lngs[i]\n",
    "    # Below is a version that uses the new citipy2 attribute: feeding a city name and getting the real coordinates back.\n",
    "    # Now when we make the API call we will be calling for the correct coordinates for the city we want.\n",
    "    #mycoords = citipy2.get_coordinates(city)\n",
    "    #mylats = mycoords[0]\n",
    "    #mylngs = mycoords[1]\n",
    "    city_url = url.format(lat = mylats, lon = mylngs, part = \"hourly, daily\", API_key = weather_api_key)\n",
    "    #print(city_url)\n",
    "    \n",
    "    # Log the url, record, and set numbers\n",
    "    print(\"Processing Record %s of Set %s | %s\" % (record_count, set_count, city))\n",
    "\n",
    "    # Add 1 to the record count\n",
    "    record_count += 1\n",
    "\n",
    "    # Run a API request for each of the cities\n",
    "    try:\n",
    "        response = requests.get(city_url)\n",
    "        #print(response)\n",
    "        data = response.json()\n",
    "        #print(data)\n",
    "        city_weather = data[\"current\"][\"weather\"][0][\"main\"] # The [0] here is because it seems like weather was a string? I call the first index of the string then can access the rest as a dict\n",
    "        #print(city_weather)\n",
    "        # Parse out latitude, longitude, max temp, humidity, cloudiness, wind speed, country, and date\n",
    "        city_lat = data[\"lat\"]\n",
    "        #print(city_lat)\n",
    "        city_lng = data[\"lon\"]\n",
    "        #print(city_lng)\n",
    "        city_max_temp = data[\"daily\"][0][\"temp\"][\"max\"] #again using the [0] trick. That was a weird one to figure out.\n",
    "        city_max_temp = (city_max_temp - 273.15) * 1.8 + 32 # Converting from Kelvin to Farenheit because I got way through this exercise before realizing I should have used imperial. This is easy.\n",
    "        #print(city_max_temp)\n",
    "        city_humidity = data[\"daily\"][0][\"humidity\"]\n",
    "        #print(city_humidity)\n",
    "        city_clouds = data[\"daily\"][0][\"clouds\"]\n",
    "        #print(city_clouds)\n",
    "        city_wind = data[\"daily\"][0][\"wind_speed\"]\n",
    "        #print(city_wind)\n",
    "        city_country = citipy.nearest_city(city_lat, city_lng).country_code # I had to use a city object in order to pull country, but i only had a list of cities as strings, so i re-create it here. Seems inefficient but I couldn't solve it otherwise.\n",
    "        #print(city_country)\n",
    "        city_date = data[\"current\"][\"dt\"]\n",
    "        #print(city_date)\n",
    "        # Append the City information into city_data list\n",
    "        city_data.append({\"City\": city, \n",
    "                          \"Lat\": city_lat, \n",
    "                          \"Lng\": city_lng, \n",
    "                          \"Max Temp\": city_max_temp,\n",
    "                          \"Humidity\": city_humidity,\n",
    "                          \"Cloudiness\": city_clouds,\n",
    "                          \"Wind Speed\": city_wind,\n",
    "                          \"Country\": city_country,\n",
    "                          \"Date\": city_date})\n",
    "    # If an error is experienced, skip the city\n",
    "    except:\n",
    "        print(\"City not found. Skipping...\")\n",
    "        pass\n",
    "\n",
    "\n",
    "# Indicate that Data Loading is complete \n",
    "print(\"-----------------------------\")\n",
    "print(\"Data Retrieval Complete      \")\n",
    "print(\"-----------------------------\")\n",
    "\n",
    "# print(city_data)"
   ]
  },
  {
   "cell_type": "code",
   "execution_count": 4,
   "metadata": {},
   "outputs": [
    {
     "data": {
      "text/plain": [
       "City          651\n",
       "Lat           651\n",
       "Lng           651\n",
       "Max Temp      651\n",
       "Humidity      651\n",
       "Cloudiness    651\n",
       "Wind Speed    651\n",
       "Country       651\n",
       "Date          651\n",
       "dtype: int64"
      ]
     },
     "execution_count": 4,
     "metadata": {},
     "output_type": "execute_result"
    }
   ],
   "source": [
    "# Convert the cities weather data into a Pandas DataFrame\n",
    "city_data_df = pd.DataFrame.from_dict(city_data)\n",
    "\n",
    "# Show Record Count\n",
    "city_data_df.count()"
   ]
  },
  {
   "cell_type": "code",
   "execution_count": 5,
   "metadata": {},
   "outputs": [
    {
     "data": {
      "text/html": [
       "<div>\n",
       "<style scoped>\n",
       "    .dataframe tbody tr th:only-of-type {\n",
       "        vertical-align: middle;\n",
       "    }\n",
       "\n",
       "    .dataframe tbody tr th {\n",
       "        vertical-align: top;\n",
       "    }\n",
       "\n",
       "    .dataframe thead th {\n",
       "        text-align: right;\n",
       "    }\n",
       "</style>\n",
       "<table border=\"1\" class=\"dataframe\">\n",
       "  <thead>\n",
       "    <tr style=\"text-align: right;\">\n",
       "      <th></th>\n",
       "      <th>City</th>\n",
       "      <th>Lat</th>\n",
       "      <th>Lng</th>\n",
       "      <th>Max Temp</th>\n",
       "      <th>Humidity</th>\n",
       "      <th>Cloudiness</th>\n",
       "      <th>Wind Speed</th>\n",
       "      <th>Country</th>\n",
       "      <th>Date</th>\n",
       "    </tr>\n",
       "  </thead>\n",
       "  <tbody>\n",
       "    <tr>\n",
       "      <th>0</th>\n",
       "      <td>mataura</td>\n",
       "      <td>-30.2696</td>\n",
       "      <td>-142.2187</td>\n",
       "      <td>71.564</td>\n",
       "      <td>73</td>\n",
       "      <td>100</td>\n",
       "      <td>4.85</td>\n",
       "      <td>pf</td>\n",
       "      <td>1681238065</td>\n",
       "    </tr>\n",
       "    <tr>\n",
       "      <th>1</th>\n",
       "      <td>cape town</td>\n",
       "      <td>-74.0574</td>\n",
       "      <td>-13.8915</td>\n",
       "      <td>22.658</td>\n",
       "      <td>84</td>\n",
       "      <td>100</td>\n",
       "      <td>14.68</td>\n",
       "      <td>za</td>\n",
       "      <td>1681238065</td>\n",
       "    </tr>\n",
       "    <tr>\n",
       "      <th>2</th>\n",
       "      <td>castro</td>\n",
       "      <td>-50.4194</td>\n",
       "      <td>-93.1736</td>\n",
       "      <td>46.292</td>\n",
       "      <td>81</td>\n",
       "      <td>98</td>\n",
       "      <td>12.22</td>\n",
       "      <td>cl</td>\n",
       "      <td>1681238066</td>\n",
       "    </tr>\n",
       "    <tr>\n",
       "      <th>3</th>\n",
       "      <td>lebu</td>\n",
       "      <td>-29.8731</td>\n",
       "      <td>-98.4434</td>\n",
       "      <td>67.964</td>\n",
       "      <td>65</td>\n",
       "      <td>100</td>\n",
       "      <td>4.13</td>\n",
       "      <td>cl</td>\n",
       "      <td>1681238067</td>\n",
       "    </tr>\n",
       "    <tr>\n",
       "      <th>4</th>\n",
       "      <td>provideniya</td>\n",
       "      <td>54.7988</td>\n",
       "      <td>-173.9100</td>\n",
       "      <td>38.246</td>\n",
       "      <td>78</td>\n",
       "      <td>48</td>\n",
       "      <td>12.02</td>\n",
       "      <td>ru</td>\n",
       "      <td>1681238068</td>\n",
       "    </tr>\n",
       "  </tbody>\n",
       "</table>\n",
       "</div>"
      ],
      "text/plain": [
       "          City      Lat       Lng  Max Temp  Humidity  Cloudiness  Wind Speed  \\\n",
       "0      mataura -30.2696 -142.2187    71.564        73         100        4.85   \n",
       "1    cape town -74.0574  -13.8915    22.658        84         100       14.68   \n",
       "2       castro -50.4194  -93.1736    46.292        81          98       12.22   \n",
       "3         lebu -29.8731  -98.4434    67.964        65         100        4.13   \n",
       "4  provideniya  54.7988 -173.9100    38.246        78          48       12.02   \n",
       "\n",
       "  Country        Date  \n",
       "0      pf  1681238065  \n",
       "1      za  1681238065  \n",
       "2      cl  1681238066  \n",
       "3      cl  1681238067  \n",
       "4      ru  1681238068  "
      ]
     },
     "execution_count": 5,
     "metadata": {},
     "output_type": "execute_result"
    }
   ],
   "source": [
    "# Display sample data\n",
    "city_data_df.head()"
   ]
  },
  {
   "cell_type": "code",
   "execution_count": 6,
   "metadata": {},
   "outputs": [],
   "source": [
    "# Export the City_Data into a csv\n",
    "city_data_df.to_csv(\"../output_data/cities.csv\", index_label=\"City_ID\")"
   ]
  },
  {
   "cell_type": "code",
   "execution_count": 7,
   "metadata": {},
   "outputs": [
    {
     "data": {
      "text/html": [
       "<div>\n",
       "<style scoped>\n",
       "    .dataframe tbody tr th:only-of-type {\n",
       "        vertical-align: middle;\n",
       "    }\n",
       "\n",
       "    .dataframe tbody tr th {\n",
       "        vertical-align: top;\n",
       "    }\n",
       "\n",
       "    .dataframe thead th {\n",
       "        text-align: right;\n",
       "    }\n",
       "</style>\n",
       "<table border=\"1\" class=\"dataframe\">\n",
       "  <thead>\n",
       "    <tr style=\"text-align: right;\">\n",
       "      <th></th>\n",
       "      <th>City</th>\n",
       "      <th>Lat</th>\n",
       "      <th>Lng</th>\n",
       "      <th>Max Temp</th>\n",
       "      <th>Humidity</th>\n",
       "      <th>Cloudiness</th>\n",
       "      <th>Wind Speed</th>\n",
       "      <th>Country</th>\n",
       "      <th>Date</th>\n",
       "    </tr>\n",
       "    <tr>\n",
       "      <th>City_ID</th>\n",
       "      <th></th>\n",
       "      <th></th>\n",
       "      <th></th>\n",
       "      <th></th>\n",
       "      <th></th>\n",
       "      <th></th>\n",
       "      <th></th>\n",
       "      <th></th>\n",
       "      <th></th>\n",
       "    </tr>\n",
       "  </thead>\n",
       "  <tbody>\n",
       "    <tr>\n",
       "      <th>0</th>\n",
       "      <td>mataura</td>\n",
       "      <td>-30.2696</td>\n",
       "      <td>-142.2187</td>\n",
       "      <td>71.564</td>\n",
       "      <td>73</td>\n",
       "      <td>100</td>\n",
       "      <td>4.85</td>\n",
       "      <td>pf</td>\n",
       "      <td>1681238065</td>\n",
       "    </tr>\n",
       "    <tr>\n",
       "      <th>1</th>\n",
       "      <td>cape town</td>\n",
       "      <td>-74.0574</td>\n",
       "      <td>-13.8915</td>\n",
       "      <td>22.658</td>\n",
       "      <td>84</td>\n",
       "      <td>100</td>\n",
       "      <td>14.68</td>\n",
       "      <td>za</td>\n",
       "      <td>1681238065</td>\n",
       "    </tr>\n",
       "    <tr>\n",
       "      <th>2</th>\n",
       "      <td>castro</td>\n",
       "      <td>-50.4194</td>\n",
       "      <td>-93.1736</td>\n",
       "      <td>46.292</td>\n",
       "      <td>81</td>\n",
       "      <td>98</td>\n",
       "      <td>12.22</td>\n",
       "      <td>cl</td>\n",
       "      <td>1681238066</td>\n",
       "    </tr>\n",
       "    <tr>\n",
       "      <th>3</th>\n",
       "      <td>lebu</td>\n",
       "      <td>-29.8731</td>\n",
       "      <td>-98.4434</td>\n",
       "      <td>67.964</td>\n",
       "      <td>65</td>\n",
       "      <td>100</td>\n",
       "      <td>4.13</td>\n",
       "      <td>cl</td>\n",
       "      <td>1681238067</td>\n",
       "    </tr>\n",
       "    <tr>\n",
       "      <th>4</th>\n",
       "      <td>provideniya</td>\n",
       "      <td>54.7988</td>\n",
       "      <td>-173.9100</td>\n",
       "      <td>38.246</td>\n",
       "      <td>78</td>\n",
       "      <td>48</td>\n",
       "      <td>12.02</td>\n",
       "      <td>ru</td>\n",
       "      <td>1681238068</td>\n",
       "    </tr>\n",
       "  </tbody>\n",
       "</table>\n",
       "</div>"
      ],
      "text/plain": [
       "                City      Lat       Lng  Max Temp  Humidity  Cloudiness  \\\n",
       "City_ID                                                                   \n",
       "0            mataura -30.2696 -142.2187    71.564        73         100   \n",
       "1          cape town -74.0574  -13.8915    22.658        84         100   \n",
       "2             castro -50.4194  -93.1736    46.292        81          98   \n",
       "3               lebu -29.8731  -98.4434    67.964        65         100   \n",
       "4        provideniya  54.7988 -173.9100    38.246        78          48   \n",
       "\n",
       "         Wind Speed Country        Date  \n",
       "City_ID                                  \n",
       "0              4.85      pf  1681238065  \n",
       "1             14.68      za  1681238065  \n",
       "2             12.22      cl  1681238066  \n",
       "3              4.13      cl  1681238067  \n",
       "4             12.02      ru  1681238068  "
      ]
     },
     "execution_count": 7,
     "metadata": {},
     "output_type": "execute_result"
    }
   ],
   "source": [
    "# Read saved data\n",
    "city_data_df = pd.read_csv(\"../output_data/cities.csv\", index_col=\"City_ID\")\n",
    "\n",
    "# Display sample data\n",
    "city_data_df.head()"
   ]
  },
  {
   "cell_type": "markdown",
   "metadata": {},
   "source": [
    "### Create the Scatter Plots Requested\n",
    "\n",
    "#### Latitude Vs. Temperature"
   ]
  },
  {
   "cell_type": "code",
   "execution_count": 8,
   "metadata": {
    "tags": []
   },
   "outputs": [
    {
     "data": {
      "image/png": "[encoded data removed]",
      "text/plain": [
       "<Figure size 432x288 with 1 Axes>"
      ]
     },
     "metadata": {
      "needs_background": "light"
     },
     "output_type": "display_data"
    }
   ],
   "source": [
    "# Build scatter plot for latitude vs. temperature\n",
    "plt.scatter(city_data_df[\"Lat\"], city_data_df[\"Max Temp\"], marker = \"o\")\n",
    "\n",
    "# Incorporate the other graph properties\n",
    "date_of_sample = pd.to_datetime(city_data_df[\"Date\"], unit = \"s\")\n",
    "min_date = date_of_sample.min()\n",
    "plt.title(f\"City Latitude vs. Temperature (sampled {min_date})\")\n",
    "plt.xlabel(\"Latitude\")\n",
    "plt.ylabel(\"Max Temperature (Deg. F)\")\n",
    "\n",
    "# Save the figure\n",
    "plt.savefig(\"../output_data/Fig1.png\")\n",
    "\n",
    "# Show plot\n",
    "plt.show()"
   ]
  },
  {
   "cell_type": "markdown",
   "metadata": {},
   "source": [
    "#### Latitude Vs. Humidity"
   ]
  },
  {
   "cell_type": "code",
   "execution_count": 9,
   "metadata": {},
   "outputs": [
    {
     "data": {
      "image/png": "[encoded data removed]",
      "text/plain": [
       "<Figure size 432x288 with 1 Axes>"
      ]
     },
     "metadata": {
      "needs_background": "light"
     },
     "output_type": "display_data"
    }
   ],
   "source": [
    "# Build the scatter plots for latitude vs. humidity\n",
    "plt.scatter(city_data_df[\"Lat\"], city_data_df[\"Humidity\"], marker = \"o\")\n",
    "\n",
    "# Incorporate the other graph properties\n",
    "\n",
    "plt.title(f\"City Latitude vs. Humidity (sampled {min_date})\")\n",
    "plt.xlabel(\"Latitude\")\n",
    "plt.ylabel(\"Humidity\")\n",
    "\n",
    "# Save the figure\n",
    "plt.savefig(\"../output_data/Fig2.png\")\n",
    "\n",
    "# Show plot\n",
    "plt.show()"
   ]
  },
  {
   "cell_type": "markdown",
   "metadata": {},
   "source": [
    "#### Latitude Vs. Cloudiness"
   ]
  },
  {
   "cell_type": "code",
   "execution_count": 10,
   "metadata": {},
   "outputs": [
    {
     "data": {
      "image/png": "[encoded data removed]",
      "text/plain": [
       "<Figure size 432x288 with 1 Axes>"
      ]
     },
     "metadata": {
      "needs_background": "light"
     },
     "output_type": "display_data"
    }
   ],
   "source": [
    "# Build the scatter plots for latitude vs. cloudiness\n",
    "plt.scatter(city_data_df[\"Lat\"], city_data_df[\"Cloudiness\"], marker = \"o\")\n",
    "\n",
    "# Incorporate the other graph properties\n",
    "\n",
    "plt.title(f\"City Latitude vs. Cloudiness (sampled {min_date})\")\n",
    "plt.xlabel(\"Latitude\")\n",
    "plt.ylabel(\"Cloudiness (%)\")\n",
    "\n",
    "# Save the figure\n",
    "plt.savefig(\"../output_data/Fig3.png\")\n",
    "\n",
    "# Show plot\n",
    "plt.show()"
   ]
  },
  {
   "cell_type": "markdown",
   "metadata": {},
   "source": [
    "#### Latitude vs. Wind Speed Plot"
   ]
  },
  {
   "cell_type": "code",
   "execution_count": 12,
   "metadata": {},
   "outputs": [
    {
     "data": {
      "image/png": "[encoded data removed]",
      "text/plain": [
       "<Figure size 432x288 with 1 Axes>"
      ]
     },
     "metadata": {
      "needs_background": "light"
     },
     "output_type": "display_data"
    }
   ],
   "source": [
    "# Build the scatter plots for latitude vs. wind speed\n",
    "plt.scatter(city_data_df[\"Lat\"], city_data_df[\"Wind Speed\"], marker = \"o\")\n",
    "\n",
    "# Incorporate the other graph properties\n",
    "\n",
    "plt.title(f\"City Latitude vs. Wind Speed (sampled {min_date})\")\n",
    "plt.xlabel(\"Latitude\")\n",
    "plt.ylabel(\"Wind Speed\")\n",
    "# Save the figure\n",
    "plt.savefig(\"../output_data/Fig4.png\")\n",
    "\n",
    "# Show plot\n",
    "plt.show()"
   ]
  },
  {
   "cell_type": "markdown",
   "metadata": {},
   "source": [
    "---\n",
    "\n",
    "## Requirement 2: Compute Linear Regression for Each Relationship\n"
   ]
  },
  {
   "cell_type": "code",
   "execution_count": 13,
   "metadata": {},
   "outputs": [
    {
     "name": "stdout",
     "output_type": "stream",
     "text": [
      "r-value =  -0.28356155013153284\n"
     ]
    },
    {
     "data": {
      "image/png": "[encoded data removed]",
      "text/plain": [
       "<Figure size 432x288 with 1 Axes>"
      ]
     },
     "metadata": {
      "needs_background": "light"
     },
     "output_type": "display_data"
    }
   ],
   "source": [
    "# Define a function to create Linear Regression plots\n",
    "\n",
    "import math # this is a standard library and I need it for the square root functions\n",
    "\n",
    "def linear_regression(x, y):\n",
    "    n = len(x)\n",
    "    x_mean = sum(x) / n\n",
    "    y_mean = sum(y) / n\n",
    "    # calculate R value\n",
    "    x_stddev = math.sqrt(sum([(i - x_mean)**2 for i in x]) / (len(x) - 1))\n",
    "    y_stddev = math.sqrt(sum([(i - y_mean)**2 for i in y]) / (len(y) - 1))\n",
    "    covariance = sum([(x[i] - x_mean) * (y[i] - y_mean) for i in range(len(x))]) / (len(x) - 1)\n",
    "    r_value = covariance / (x_stddev * y_stddev)\n",
    "    print(\"r-value = \", r_value)\n",
    "    # calculate slope and intercept for plotting\n",
    "    slope = sum([(x[i] - x_mean) * (y[i] - y_mean) for i in range(n)]) / sum([(x[i] - x_mean) ** 2 for i in range(n)])\n",
    "    intercept = y_mean - slope * x_mean\n",
    "    # do the plotting\n",
    "    plt.scatter(x, y)\n",
    "    plt.plot(x, [slope * xi + intercept for xi in x], color='red')\n",
    "    plt.xlabel('x')\n",
    "    plt.ylabel('y')\n",
    "    plt.title('Linear Regression')\n",
    "    # add the equation to the plot\n",
    "    plt.text(x.mean(),y.max()*1.25,f\"y = {slope:.2f}x + {intercept:.2f}\\nr = {r_value:.2f}\", color='red', size = '14')\n",
    "    plt.show()\n",
    "\n",
    "\n",
    "linear_regression(city_data_df[\"Lat\"], city_data_df[\"Wind Speed\"])"
   ]
  },
  {
   "cell_type": "code",
   "execution_count": 17,
   "metadata": {},
   "outputs": [
    {
     "name": "stdout",
     "output_type": "stream",
     "text": [
      "r-value = -0.283561550131533\n"
     ]
    },
    {
     "data": {
      "image/png": "[encoded data removed]",
      "text/plain": [
       "<Figure size 432x288 with 1 Axes>"
      ]
     },
     "metadata": {
      "needs_background": "light"
     },
     "output_type": "display_data"
    }
   ],
   "source": [
    "# # Define a function to create Linear Regression plots\n",
    "\n",
    "def linear_regression(x, y):\n",
    "    slope, intercept, r_value, p_value, std_err = linregress(x, y)\n",
    "    print(\"r-value =\", r_value)\n",
    "    plt.scatter(x, y)\n",
    "    plt.plot(x, slope*x + intercept, color='red')\n",
    "    plt.xlabel('x')\n",
    "    plt.ylabel('y')\n",
    "    plt.title('Linear Regression')\n",
    "    plt.text(x.mean(), y.max()*1.25, f\"y = {slope:.2f}x + {intercept:.2f}\\nr = {r_value:.2f}\", color='red', size='14')\n",
    "    plt.show()\n",
    "\n",
    "linear_regression(city_data_df[\"Lat\"], city_data_df[\"Wind Speed\"])"
   ]
  },
  {
   "cell_type": "code",
   "execution_count": 18,
   "metadata": {},
   "outputs": [
    {
     "data": {
      "text/html": [
       "<div>\n",
       "<style scoped>\n",
       "    .dataframe tbody tr th:only-of-type {\n",
       "        vertical-align: middle;\n",
       "    }\n",
       "\n",
       "    .dataframe tbody tr th {\n",
       "        vertical-align: top;\n",
       "    }\n",
       "\n",
       "    .dataframe thead th {\n",
       "        text-align: right;\n",
       "    }\n",
       "</style>\n",
       "<table border=\"1\" class=\"dataframe\">\n",
       "  <thead>\n",
       "    <tr style=\"text-align: right;\">\n",
       "      <th></th>\n",
       "      <th>City</th>\n",
       "      <th>Lat</th>\n",
       "      <th>Lng</th>\n",
       "      <th>Max Temp</th>\n",
       "      <th>Humidity</th>\n",
       "      <th>Cloudiness</th>\n",
       "      <th>Wind Speed</th>\n",
       "      <th>Country</th>\n",
       "      <th>Date</th>\n",
       "    </tr>\n",
       "  </thead>\n",
       "  <tbody>\n",
       "    <tr>\n",
       "      <th>0</th>\n",
       "      <td>provideniya</td>\n",
       "      <td>54.7988</td>\n",
       "      <td>-173.9100</td>\n",
       "      <td>38.246</td>\n",
       "      <td>78</td>\n",
       "      <td>48</td>\n",
       "      <td>12.02</td>\n",
       "      <td>ru</td>\n",
       "      <td>1681238068</td>\n",
       "    </tr>\n",
       "    <tr>\n",
       "      <th>1</th>\n",
       "      <td>lavrentiya</td>\n",
       "      <td>77.4458</td>\n",
       "      <td>-169.7338</td>\n",
       "      <td>-6.916</td>\n",
       "      <td>95</td>\n",
       "      <td>82</td>\n",
       "      <td>4.70</td>\n",
       "      <td>ru</td>\n",
       "      <td>1681238069</td>\n",
       "    </tr>\n",
       "    <tr>\n",
       "      <th>2</th>\n",
       "      <td>hilo</td>\n",
       "      <td>5.0055</td>\n",
       "      <td>-157.5343</td>\n",
       "      <td>80.708</td>\n",
       "      <td>81</td>\n",
       "      <td>80</td>\n",
       "      <td>7.82</td>\n",
       "      <td>us</td>\n",
       "      <td>1681238069</td>\n",
       "    </tr>\n",
       "    <tr>\n",
       "      <th>3</th>\n",
       "      <td>vaitupu</td>\n",
       "      <td>5.0766</td>\n",
       "      <td>-174.5124</td>\n",
       "      <td>82.544</td>\n",
       "      <td>78</td>\n",
       "      <td>52</td>\n",
       "      <td>8.17</td>\n",
       "      <td>wf</td>\n",
       "      <td>1681238070</td>\n",
       "    </tr>\n",
       "    <tr>\n",
       "      <th>4</th>\n",
       "      <td>sebinkarahisar</td>\n",
       "      <td>39.9500</td>\n",
       "      <td>38.6616</td>\n",
       "      <td>46.040</td>\n",
       "      <td>87</td>\n",
       "      <td>100</td>\n",
       "      <td>3.67</td>\n",
       "      <td>tr</td>\n",
       "      <td>1681238071</td>\n",
       "    </tr>\n",
       "  </tbody>\n",
       "</table>\n",
       "</div>"
      ],
      "text/plain": [
       "             City      Lat       Lng  Max Temp  Humidity  Cloudiness  \\\n",
       "0     provideniya  54.7988 -173.9100    38.246        78          48   \n",
       "1      lavrentiya  77.4458 -169.7338    -6.916        95          82   \n",
       "2            hilo   5.0055 -157.5343    80.708        81          80   \n",
       "3         vaitupu   5.0766 -174.5124    82.544        78          52   \n",
       "4  sebinkarahisar  39.9500   38.6616    46.040        87         100   \n",
       "\n",
       "   Wind Speed Country        Date  \n",
       "0       12.02      ru  1681238068  \n",
       "1        4.70      ru  1681238069  \n",
       "2        7.82      us  1681238069  \n",
       "3        8.17      wf  1681238070  \n",
       "4        3.67      tr  1681238071  "
      ]
     },
     "execution_count": 18,
     "metadata": {},
     "output_type": "execute_result"
    }
   ],
   "source": [
    "# Create a DataFrame with the Northern Hemisphere data (Latitude >= 0)\n",
    "northern_hemi_df = city_data_df[city_data_df[\"Lat\"]>=0]\n",
    "northern_hemi_df = northern_hemi_df.reset_index(drop=True)\n",
    "\n",
    "\n",
    "# Display sample data\n",
    "northern_hemi_df.head()"
   ]
  },
  {
   "cell_type": "code",
   "execution_count": 19,
   "metadata": {},
   "outputs": [
    {
     "data": {
      "text/html": [
       "<div>\n",
       "<style scoped>\n",
       "    .dataframe tbody tr th:only-of-type {\n",
       "        vertical-align: middle;\n",
       "    }\n",
       "\n",
       "    .dataframe tbody tr th {\n",
       "        vertical-align: top;\n",
       "    }\n",
       "\n",
       "    .dataframe thead th {\n",
       "        text-align: right;\n",
       "    }\n",
       "</style>\n",
       "<table border=\"1\" class=\"dataframe\">\n",
       "  <thead>\n",
       "    <tr style=\"text-align: right;\">\n",
       "      <th></th>\n",
       "      <th>City</th>\n",
       "      <th>Lat</th>\n",
       "      <th>Lng</th>\n",
       "      <th>Max Temp</th>\n",
       "      <th>Humidity</th>\n",
       "      <th>Cloudiness</th>\n",
       "      <th>Wind Speed</th>\n",
       "      <th>Country</th>\n",
       "      <th>Date</th>\n",
       "    </tr>\n",
       "  </thead>\n",
       "  <tbody>\n",
       "    <tr>\n",
       "      <th>0</th>\n",
       "      <td>mataura</td>\n",
       "      <td>-30.2696</td>\n",
       "      <td>-142.2187</td>\n",
       "      <td>71.564</td>\n",
       "      <td>73</td>\n",
       "      <td>100</td>\n",
       "      <td>4.85</td>\n",
       "      <td>pf</td>\n",
       "      <td>1681238065</td>\n",
       "    </tr>\n",
       "    <tr>\n",
       "      <th>1</th>\n",
       "      <td>cape town</td>\n",
       "      <td>-74.0574</td>\n",
       "      <td>-13.8915</td>\n",
       "      <td>22.658</td>\n",
       "      <td>84</td>\n",
       "      <td>100</td>\n",
       "      <td>14.68</td>\n",
       "      <td>za</td>\n",
       "      <td>1681238065</td>\n",
       "    </tr>\n",
       "    <tr>\n",
       "      <th>2</th>\n",
       "      <td>castro</td>\n",
       "      <td>-50.4194</td>\n",
       "      <td>-93.1736</td>\n",
       "      <td>46.292</td>\n",
       "      <td>81</td>\n",
       "      <td>98</td>\n",
       "      <td>12.22</td>\n",
       "      <td>cl</td>\n",
       "      <td>1681238066</td>\n",
       "    </tr>\n",
       "    <tr>\n",
       "      <th>3</th>\n",
       "      <td>lebu</td>\n",
       "      <td>-29.8731</td>\n",
       "      <td>-98.4434</td>\n",
       "      <td>67.964</td>\n",
       "      <td>65</td>\n",
       "      <td>100</td>\n",
       "      <td>4.13</td>\n",
       "      <td>cl</td>\n",
       "      <td>1681238067</td>\n",
       "    </tr>\n",
       "    <tr>\n",
       "      <th>4</th>\n",
       "      <td>busselton</td>\n",
       "      <td>-87.9741</td>\n",
       "      <td>77.0392</td>\n",
       "      <td>-63.922</td>\n",
       "      <td>100</td>\n",
       "      <td>94</td>\n",
       "      <td>5.07</td>\n",
       "      <td>au</td>\n",
       "      <td>1681238072</td>\n",
       "    </tr>\n",
       "  </tbody>\n",
       "</table>\n",
       "</div>"
      ],
      "text/plain": [
       "        City      Lat       Lng  Max Temp  Humidity  Cloudiness  Wind Speed  \\\n",
       "0    mataura -30.2696 -142.2187    71.564        73         100        4.85   \n",
       "1  cape town -74.0574  -13.8915    22.658        84         100       14.68   \n",
       "2     castro -50.4194  -93.1736    46.292        81          98       12.22   \n",
       "3       lebu -29.8731  -98.4434    67.964        65         100        4.13   \n",
       "4  busselton -87.9741   77.0392   -63.922       100          94        5.07   \n",
       "\n",
       "  Country        Date  \n",
       "0      pf  1681238065  \n",
       "1      za  1681238065  \n",
       "2      cl  1681238066  \n",
       "3      cl  1681238067  \n",
       "4      au  1681238072  "
      ]
     },
     "execution_count": 19,
     "metadata": {},
     "output_type": "execute_result"
    }
   ],
   "source": [
    "# Create a DataFrame with the Southern Hemisphere data (Latitude < 0)\n",
    "southern_hemi_df = city_data_df[city_data_df[\"Lat\"]<=0]\n",
    "southern_hemi_df = southern_hemi_df.reset_index(drop=True)\n",
    "\n",
    "\n",
    "# Display sample data\n",
    "southern_hemi_df.head()"
   ]
  },
  {
   "cell_type": "markdown",
   "metadata": {},
   "source": [
    "###  Temperature vs. Latitude Linear Regression Plot"
   ]
  },
  {
   "cell_type": "code",
   "execution_count": 20,
   "metadata": {},
   "outputs": [
    {
     "name": "stdout",
     "output_type": "stream",
     "text": [
      "r-value = -0.9223352655414239\n"
     ]
    },
    {
     "data": {
      "image/png": "[encoded data removed]",
      "text/plain": [
       "<Figure size 432x288 with 1 Axes>"
      ]
     },
     "metadata": {
      "needs_background": "light"
     },
     "output_type": "display_data"
    }
   ],
   "source": [
    "# Linear regression on Northern Hemisphere\n",
    "linear_regression(northern_hemi_df[\"Lat\"], northern_hemi_df[\"Max Temp\"])"
   ]
  },
  {
   "cell_type": "code",
   "execution_count": 21,
   "metadata": {},
   "outputs": [
    {
     "name": "stdout",
     "output_type": "stream",
     "text": [
      "r-value = 0.912994906136718\n"
     ]
    },
    {
     "data": {
      "image/png": "[encoded data removed]",
      "text/plain": [
       "<Figure size 432x288 with 1 Axes>"
      ]
     },
     "metadata": {
      "needs_background": "light"
     },
     "output_type": "display_data"
    }
   ],
   "source": [
    "# Linear regression on Southern Hemisphere\n",
    "linear_regression(southern_hemi_df[\"Lat\"], southern_hemi_df[\"Max Temp\"])"
   ]
  },
  {
   "cell_type": "markdown",
   "metadata": {},
   "source": [
    "**Discussion about the linear relationship:** YOUR RESPONSE HERE"
   ]
  },
  {
   "cell_type": "markdown",
   "metadata": {},
   "source": [
    "### Humidity vs. Latitude Linear Regression Plot"
   ]
  },
  {
   "cell_type": "code",
   "execution_count": 22,
   "metadata": {},
   "outputs": [
    {
     "name": "stdout",
     "output_type": "stream",
     "text": [
      "r-value = 0.44114294929687753\n"
     ]
    },
    {
     "data": {
      "image/png": "[encoded data removed]",
      "text/plain": [
       "<Figure size 432x288 with 1 Axes>"
      ]
     },
     "metadata": {
      "needs_background": "light"
     },
     "output_type": "display_data"
    }
   ],
   "source": [
    "# Northern Hemisphere\n",
    "\n",
    "linear_regression(northern_hemi_df[\"Lat\"], northern_hemi_df[\"Humidity\"])"
   ]
  },
  {
   "cell_type": "code",
   "execution_count": 23,
   "metadata": {},
   "outputs": [
    {
     "name": "stdout",
     "output_type": "stream",
     "text": [
      "r-value = -0.4971783647793798\n"
     ]
    },
    {
     "data": {
      "image/png": "[encoded data removed]",
      "text/plain": [
       "<Figure size 432x288 with 1 Axes>"
      ]
     },
     "metadata": {
      "needs_background": "light"
     },
     "output_type": "display_data"
    }
   ],
   "source": [
    "# Southern Hemisphere\n",
    "\n",
    "linear_regression(southern_hemi_df[\"Lat\"], southern_hemi_df[\"Humidity\"])"
   ]
  },
  {
   "cell_type": "markdown",
   "metadata": {},
   "source": [
    "**Discussion about the linear relationship:** YOUR RESPONSE HERE"
   ]
  },
  {
   "cell_type": "markdown",
   "metadata": {},
   "source": [
    "### Cloudiness vs. Latitude Linear Regression Plot"
   ]
  },
  {
   "cell_type": "code",
   "execution_count": 24,
   "metadata": {},
   "outputs": [
    {
     "name": "stdout",
     "output_type": "stream",
     "text": [
      "r-value = 0.17338039373117412\n"
     ]
    },
    {
     "data": {
      "image/png": "[encoded data removed]",
      "text/plain": [
       "<Figure size 432x288 with 1 Axes>"
      ]
     },
     "metadata": {
      "needs_background": "light"
     },
     "output_type": "display_data"
    }
   ],
   "source": [
    "# Northern Hemisphere\n",
    "\n",
    "linear_regression(northern_hemi_df[\"Lat\"], northern_hemi_df[\"Cloudiness\"])"
   ]
  },
  {
   "cell_type": "code",
   "execution_count": 25,
   "metadata": {},
   "outputs": [
    {
     "name": "stdout",
     "output_type": "stream",
     "text": [
      "r-value = -0.4971783647793798\n"
     ]
    },
    {
     "data": {
      "image/png": "[encoded data removed]",
      "text/plain": [
       "<Figure size 432x288 with 1 Axes>"
      ]
     },
     "metadata": {
      "needs_background": "light"
     },
     "output_type": "display_data"
    }
   ],
   "source": [
    "# Southern Hemisphere\n",
    "\n",
    "linear_regression(southern_hemi_df[\"Lat\"], southern_hemi_df[\"Humidity\"])"
   ]
  },
  {
   "cell_type": "markdown",
   "metadata": {},
   "source": [
    "**Discussion about the linear relationship:** YOUR RESPONSE HERE"
   ]
  },
  {
   "cell_type": "markdown",
   "metadata": {},
   "source": [
    "### Wind Speed vs. Latitude Linear Regression Plot"
   ]
  },
  {
   "cell_type": "code",
   "execution_count": 26,
   "metadata": {},
   "outputs": [
    {
     "name": "stdout",
     "output_type": "stream",
     "text": [
      "r-value = -0.021419836798695198\n"
     ]
    },
    {
     "data": {
      "image/png": "[encoded data removed]",
      "text/plain": [
       "<Figure size 432x288 with 1 Axes>"
      ]
     },
     "metadata": {
      "needs_background": "light"
     },
     "output_type": "display_data"
    }
   ],
   "source": [
    "# Northern Hemisphere\n",
    "\n",
    "linear_regression(northern_hemi_df[\"Lat\"],northern_hemi_df[\"Wind Speed\"])"
   ]
  },
  {
   "cell_type": "code",
   "execution_count": 27,
   "metadata": {},
   "outputs": [
    {
     "name": "stdout",
     "output_type": "stream",
     "text": [
      "r-value = -0.3302956807691281\n"
     ]
    },
    {
     "data": {
      "image/png": "[encoded data removed]",
      "text/plain": [
       "<Figure size 432x288 with 1 Axes>"
      ]
     },
     "metadata": {
      "needs_background": "light"
     },
     "output_type": "display_data"
    }
   ],
   "source": [
    "# Southern Hemisphere\n",
    "\n",
    "linear_regression(southern_hemi_df[\"Lat\"], southern_hemi_df[\"Wind Speed\"])"
   ]
  },
  {
   "cell_type": "markdown",
   "metadata": {},
   "source": [
    "**Discussion about the linear relationship:** YOUR RESPONSE HERE"
   ]
  },
  {
   "cell_type": "code",
   "execution_count": null,
   "metadata": {},
   "outputs": [],
   "source": []
  }
 ],
 "metadata": {
  "anaconda-cloud": {},
  "kernel_info": {
   "name": "python3"
  },
  "kernelspec": {
   "display_name": "Python 3 (ipykernel)",
   "language": "python",
   "name": "python3"
  },
  "language_info": {
   "codemirror_mode": {
    "name": "ipython",
    "version": 3
   },
   "file_extension": ".py",
   "mimetype": "text/x-python",
   "name": "python",
   "nbconvert_exporter": "python",
   "pygments_lexer": "ipython3",
   "version": "3.9.12"
  },
  "latex_envs": {
   "LaTeX_envs_menu_present": true,
   "autoclose": false,
   "autocomplete": true,
   "bibliofile": "biblio.bib",
   "cite_by": "apalike",
   "current_citInitial": 1,
   "eqLabelWithNumbers": true,
   "eqNumInitial": 1,
   "hotkeys": {
    "equation": "Ctrl-E",
    "itemize": "Ctrl-I"
   },
   "labels_anchors": false,
   "latex_user_defs": false,
   "report_style_numbering": false,
   "user_envs_cfg": false
  },
  "nteract": {
   "version": "0.12.3"
  }
 },
 "nbformat": 4,
 "nbformat_minor": 4
}
