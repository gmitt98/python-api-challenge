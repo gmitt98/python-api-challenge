{
 "cells": [
  {
   "cell_type": "code",
   "execution_count": 13,
   "metadata": {},
   "outputs": [
    {
     "name": "stdout",
     "output_type": "stream",
     "text": [
      "tsihombe\n",
      "-25.3\n",
      "45.4833333\n",
      "37.615556\n"
     ]
    }
   ],
   "source": [
    "import citipy2\n",
    "\n",
    "mycity = citipy2.nearest_city(-43,44)\n",
    "print(mycity.city_name)\n",
    "print(mycity.city_lat)\n",
    "print(mycity.city_long)\n",
    "myothercitycoords = citipy2.get_coordinates('moscow')\n",
    "print(myothercitycoords[0])"
   ]
  }
 ],
 "metadata": {
  "kernelspec": {
   "display_name": "base",
   "language": "python",
   "name": "python3"
  },
  "language_info": {
   "codemirror_mode": {
    "name": "ipython",
    "version": 3
   },
   "file_extension": ".py",
   "mimetype": "text/x-python",
   "name": "python",
   "nbconvert_exporter": "python",
   "pygments_lexer": "ipython3",
   "version": "3.9.12"
  },
  "orig_nbformat": 4
 },
 "nbformat": 4,
 "nbformat_minor": 2
}
