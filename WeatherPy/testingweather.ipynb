{
 "cells": [
  {
   "cell_type": "code",
   "execution_count": 10,
   "metadata": {},
   "outputs": [
    {
     "name": "stdout",
     "output_type": "stream",
     "text": [
      "<citipy2.City object at 0x7ff619685bb0>\n",
      "eugene us 44.0522222 -123.0855556\n",
      "-123.0855556\n"
     ]
    }
   ],
   "source": [
    "import citipy2\n",
    "\n",
    "mycity = citipy2.nearest_city(44,-123.1)\n",
    "print(mycity)\n",
    "print(mycity.city_name, mycity.country_code, mycity.city_lat, mycity.city_long)\n",
    "myothercitycoords = citipy2.get_coordinates('eugene')\n",
    "print(myothercitycoords[0])"
   ]
  },
  {
   "cell_type": "code",
   "execution_count": 26,
   "metadata": {},
   "outputs": [
    {
     "name": "stdout",
     "output_type": "stream",
     "text": [
      "-70.8972222 42.5194444\n",
      "salem\n",
      "us\n"
     ]
    }
   ],
   "source": [
    "mycoords = citipy2.get_coordinates('salem')\n",
    "print(mycoords[0], mycoords[1])\n",
    "mycity = citipy2.nearest_city(44.9,-123.1)\n",
    "print(mycity.city_name)\n",
    "print(mycity.country_code)"
   ]
  },
  {
   "cell_type": "code",
   "execution_count": 40,
   "metadata": {},
   "outputs": [
    {
     "data": {
      "text/html": [
       "<div>\n",
       "<style scoped>\n",
       "    .dataframe tbody tr th:only-of-type {\n",
       "        vertical-align: middle;\n",
       "    }\n",
       "\n",
       "    .dataframe tbody tr th {\n",
       "        vertical-align: top;\n",
       "    }\n",
       "\n",
       "    .dataframe thead th {\n",
       "        text-align: right;\n",
       "    }\n",
       "</style>\n",
       "<table border=\"1\" class=\"dataframe\">\n",
       "  <thead>\n",
       "    <tr style=\"text-align: right;\">\n",
       "      <th></th>\n",
       "      <th>Country</th>\n",
       "      <th>City</th>\n",
       "      <th>Latitude</th>\n",
       "      <th>Longitude</th>\n",
       "    </tr>\n",
       "  </thead>\n",
       "  <tbody>\n",
       "    <tr>\n",
       "      <th>0</th>\n",
       "      <td>ad</td>\n",
       "      <td>andorra la vella</td>\n",
       "      <td>42.500000</td>\n",
       "      <td>1.516667</td>\n",
       "    </tr>\n",
       "    <tr>\n",
       "      <th>1</th>\n",
       "      <td>ad</td>\n",
       "      <td>canillo</td>\n",
       "      <td>42.566667</td>\n",
       "      <td>1.600000</td>\n",
       "    </tr>\n",
       "    <tr>\n",
       "      <th>2</th>\n",
       "      <td>ad</td>\n",
       "      <td>encamp</td>\n",
       "      <td>42.533333</td>\n",
       "      <td>1.583333</td>\n",
       "    </tr>\n",
       "    <tr>\n",
       "      <th>3</th>\n",
       "      <td>ad</td>\n",
       "      <td>la massana</td>\n",
       "      <td>42.550000</td>\n",
       "      <td>1.516667</td>\n",
       "    </tr>\n",
       "    <tr>\n",
       "      <th>4</th>\n",
       "      <td>ad</td>\n",
       "      <td>les escaldes</td>\n",
       "      <td>42.500000</td>\n",
       "      <td>1.533333</td>\n",
       "    </tr>\n",
       "  </tbody>\n",
       "</table>\n",
       "</div>"
      ],
      "text/plain": [
       "  Country              City   Latitude  Longitude\n",
       "0      ad  andorra la vella  42.500000   1.516667\n",
       "1      ad           canillo  42.566667   1.600000\n",
       "2      ad            encamp  42.533333   1.583333\n",
       "3      ad        la massana  42.550000   1.516667\n",
       "4      ad      les escaldes  42.500000   1.533333"
      ]
     },
     "execution_count": 40,
     "metadata": {},
     "output_type": "execute_result"
    }
   ],
   "source": [
    "import pandas as pd\n",
    "df = pd.read_csv('worldcities.csv')\n",
    "df.head()\n",
    "#print(df.count())\n"
   ]
  },
  {
   "cell_type": "code",
   "execution_count": 43,
   "metadata": {},
   "outputs": [
    {
     "name": "stdout",
     "output_type": "stream",
     "text": [
      "208 42104\n",
      "46832\n"
     ]
    }
   ],
   "source": [
    "# count unique values in Country and City columns\n",
    "count_country = df['Country'].nunique()\n",
    "count_city = df['City'].nunique()\n",
    "\n",
    "print(count_country, count_city)\n",
    "print(len(df))"
   ]
  },
  {
   "cell_type": "code",
   "execution_count": 48,
   "metadata": {},
   "outputs": [
    {
     "data": {
      "text/plain": [
       "array([-159.32147401,   25.93140357,   16.26434481, ...,  -88.06699579,\n",
       "        -91.00834195,  -90.27830018])"
      ]
     },
     "execution_count": 48,
     "metadata": {},
     "output_type": "execute_result"
    }
   ],
   "source": [
    "import numpy as np\n",
    "import random\n",
    "# Create a set of random lat and lng combinations\n",
    "lats = np.random.uniform(-180, 180, size=1500)\n",
    "lngs = np.random.uniform(-180, 180, size=1500)\n"
   ]
  },
  {
   "cell_type": "code",
   "execution_count": 4,
   "metadata": {},
   "outputs": [],
   "source": [
    "import requests\n",
    "myurl = \"https://api.openweathermap.org/data/3.0/onecall?lat=-21.2&lon=-175.2&exclude=hourly, daily&appid=8ccb1544e0456a35596f37de8faee786\"\n",
    "\n",
    "response = requests.get(myurl)\n",
    "#print(response)\n",
    "data = response.json()"
   ]
  },
  {
   "cell_type": "code",
   "execution_count": 7,
   "metadata": {},
   "outputs": [
    {
     "name": "stdout",
     "output_type": "stream",
     "text": [
      "{'lat': -21.2, 'lon': -175.2, 'timezone': 'Pacific/Tongatapu', 'timezone_offset': 46800, 'current': {'dt': 1681318700, 'sunrise': 1681408304, 'sunset': 1681450226, 'temp': 298.24, 'feels_like': 299.1, 'pressure': 1014, 'humidity': 88, 'dew_point': 296.11, 'uvi': 0, 'clouds': 20, 'visibility': 10000, 'wind_speed': 2.06, 'wind_deg': 80, 'weather': [{'id': 801, 'main': 'Clouds', 'description': 'few clouds', 'icon': '02n'}]}, 'daily': [{'dt': 1681426800, 'sunrise': 1681408304, 'sunset': 1681450226, 'moonrise': 0, 'moonset': 1681345440, 'moon_phase': 0.75, 'temp': {'day': 299.5, 'min': 298.24, 'max': 299.78, 'night': 299.5, 'eve': 299.5, 'morn': 299.5}, 'feels_like': {'day': 299.5, 'night': 299.5, 'eve': 299.5, 'morn': 299.5}, 'pressure': 1015, 'humidity': 73, 'dew_point': 294.4, 'wind_speed': 8.26, 'wind_deg': 72, 'wind_gust': 9, 'weather': [{'id': 804, 'main': 'Clouds', 'description': 'overcast clouds', 'icon': '04n'}], 'clouds': 92, 'pop': 0.05, 'uvi': 9.29}, {'dt': 1681513200, 'sunrise': 1681494723, 'sunset': 1681536576, 'moonrise': 1681384860, 'moonset': 1681435080, 'moon_phase': 0.77, 'temp': {'day': 299.53, 'min': 299.28, 'max': 299.76, 'night': 299.53, 'eve': 299.53, 'morn': 299.53}, 'feels_like': {'day': 299.53, 'night': 299.53, 'eve': 299.53, 'morn': 299.53}, 'pressure': 1014, 'humidity': 77, 'dew_point': 295.32, 'wind_speed': 7.75, 'wind_deg': 92, 'wind_gust': 8.83, 'weather': [{'id': 804, 'main': 'Clouds', 'description': 'overcast clouds', 'icon': '04n'}], 'clouds': 94, 'pop': 0.36, 'uvi': 9.95}, {'dt': 1681599600, 'sunrise': 1681581143, 'sunset': 1681622928, 'moonrise': 1681475220, 'moonset': 1681524480, 'moon_phase': 0.81, 'temp': {'day': 299.12, 'min': 299.12, 'max': 299.64, 'night': 299.12, 'eve': 299.12, 'morn': 299.12}, 'feels_like': {'day': 299.12, 'night': 299.12, 'eve': 299.12, 'morn': 299.12}, 'pressure': 1014, 'humidity': 79, 'dew_point': 295.19, 'wind_speed': 9.63, 'wind_deg': 103, 'wind_gust': 10.58, 'weather': [{'id': 500, 'main': 'Rain', 'description': 'light rain', 'icon': '10d'}], 'clouds': 60, 'pop': 0.83, 'rain': 1.78, 'uvi': 9}, {'dt': 1681686000, 'sunrise': 1681667563, 'sunset': 1681709280, 'moonrise': 1681565520, 'moonset': 1681613520, 'moon_phase': 0.84, 'temp': {'day': 299, 'min': 298.8, 'max': 299.47, 'night': 299, 'eve': 299, 'morn': 299}, 'feels_like': {'day': 299.57, 'night': 299.57, 'eve': 299.57, 'morn': 299.57}, 'pressure': 1014, 'humidity': 74, 'dew_point': 294.27, 'wind_speed': 12.04, 'wind_deg': 112, 'wind_gust': 12.59, 'weather': [{'id': 500, 'main': 'Rain', 'description': 'light rain', 'icon': '10d'}], 'clouds': 100, 'pop': 0.92, 'rain': 3.35, 'uvi': 9.53}, {'dt': 1681772400, 'sunrise': 1681753983, 'sunset': 1681795632, 'moonrise': 1681655700, 'moonset': 1681702320, 'moon_phase': 0.88, 'temp': {'day': 299.1, 'min': 298.62, 'max': 299.1, 'night': 299.1, 'eve': 299.1, 'morn': 299.1}, 'feels_like': {'day': 299.1, 'night': 299.1, 'eve': 299.1, 'morn': 299.1}, 'pressure': 1013, 'humidity': 70, 'dew_point': 293.24, 'wind_speed': 11.79, 'wind_deg': 87, 'wind_gust': 12.02, 'weather': [{'id': 500, 'main': 'Rain', 'description': 'light rain', 'icon': '10d'}], 'clouds': 100, 'pop': 0.74, 'rain': 1.43, 'uvi': 10}, {'dt': 1681858800, 'sunrise': 1681840403, 'sunset': 1681881986, 'moonrise': 1681745700, 'moonset': 1681791000, 'moon_phase': 0.92, 'temp': {'day': 295.91, 'min': 295.91, 'max': 298.88, 'night': 295.91, 'eve': 295.91, 'morn': 295.91}, 'feels_like': {'day': 296.75, 'night': 296.75, 'eve': 296.75, 'morn': 296.75}, 'pressure': 1005, 'humidity': 96, 'dew_point': 295.24, 'wind_speed': 15.38, 'wind_deg': 110, 'wind_gust': 19.64, 'weather': [{'id': 503, 'main': 'Rain', 'description': 'very heavy rain', 'icon': '10d'}], 'clouds': 100, 'pop': 1, 'rain': 221.08, 'uvi': 10}, {'dt': 1681945200, 'sunrise': 1681926824, 'sunset': 1681968339, 'moonrise': 1681835700, 'moonset': 1681879620, 'moon_phase': 0.96, 'temp': {'day': 298.4, 'min': 296.39, 'max': 298.4, 'night': 298.4, 'eve': 298.4, 'morn': 298.4}, 'feels_like': {'day': 298.89, 'night': 298.89, 'eve': 298.89, 'morn': 298.89}, 'pressure': 1006, 'humidity': 73, 'dew_point': 293.33, 'wind_speed': 22.2, 'wind_deg': 238, 'wind_gust': 24.18, 'weather': [{'id': 502, 'main': 'Rain', 'description': 'heavy intensity rain', 'icon': '10d'}], 'clouds': 94, 'pop': 1, 'rain': 27.35, 'uvi': 10}, {'dt': 1682031600, 'sunrise': 1682013245, 'sunset': 1682054694, 'moonrise': 1681925580, 'moonset': 1681968240, 'moon_phase': 0, 'temp': {'day': 298.87, 'min': 298.43, 'max': 298.93, 'night': 298.87, 'eve': 298.87, 'morn': 298.87}, 'feels_like': {'day': 299.48, 'night': 299.48, 'eve': 299.48, 'morn': 299.48}, 'pressure': 1006, 'humidity': 76, 'dew_point': 294.44, 'wind_speed': 11.99, 'wind_deg': 240, 'wind_gust': 13.03, 'weather': [{'id': 500, 'main': 'Rain', 'description': 'light rain', 'icon': '10d'}], 'clouds': 63, 'pop': 1, 'rain': 6.13, 'uvi': 10}]}\n"
     ]
    },
    {
     "ename": "NameError",
     "evalue": "name 'citipy' is not defined",
     "output_type": "error",
     "traceback": [
      "\u001b[0;31m---------------------------------------------------------------------------\u001b[0m",
      "\u001b[0;31mNameError\u001b[0m                                 Traceback (most recent call last)",
      "\u001b[1;32m/Users/galenmittermann/Documents/GitHub/python-api-challenge/WeatherPy/testingweather.ipynb Cell 7\u001b[0m in \u001b[0;36m<cell line: 18>\u001b[0;34m()\u001b[0m\n\u001b[1;32m     <a href='vscode-notebook-cell:/Users/galenmittermann/Documents/GitHub/python-api-challenge/WeatherPy/testingweather.ipynb#W6sZmlsZQ%3D%3D?line=15'>16</a>\u001b[0m city_wind \u001b[39m=\u001b[39m data[\u001b[39m\"\u001b[39m\u001b[39mdaily\u001b[39m\u001b[39m\"\u001b[39m][\u001b[39m0\u001b[39m][\u001b[39m\"\u001b[39m\u001b[39mwind_speed\u001b[39m\u001b[39m\"\u001b[39m]\n\u001b[1;32m     <a href='vscode-notebook-cell:/Users/galenmittermann/Documents/GitHub/python-api-challenge/WeatherPy/testingweather.ipynb#W6sZmlsZQ%3D%3D?line=16'>17</a>\u001b[0m         \u001b[39m#print(city_wind)\u001b[39;00m\n\u001b[0;32m---> <a href='vscode-notebook-cell:/Users/galenmittermann/Documents/GitHub/python-api-challenge/WeatherPy/testingweather.ipynb#W6sZmlsZQ%3D%3D?line=17'>18</a>\u001b[0m city_country \u001b[39m=\u001b[39m citipy\u001b[39m.\u001b[39mnearest_city(city_lat, city_lng)\u001b[39m.\u001b[39mcountry_code \u001b[39m# I had to use a city object in order to pull country, but i only had a list of cities as strings, so i re-create it here. Seems inefficient but I couldn't solve it otherwise.\u001b[39;00m\n\u001b[1;32m     <a href='vscode-notebook-cell:/Users/galenmittermann/Documents/GitHub/python-api-challenge/WeatherPy/testingweather.ipynb#W6sZmlsZQ%3D%3D?line=18'>19</a>\u001b[0m         \u001b[39m#print(city_country)\u001b[39;00m\n\u001b[1;32m     <a href='vscode-notebook-cell:/Users/galenmittermann/Documents/GitHub/python-api-challenge/WeatherPy/testingweather.ipynb#W6sZmlsZQ%3D%3D?line=19'>20</a>\u001b[0m city_date \u001b[39m=\u001b[39m data[\u001b[39m\"\u001b[39m\u001b[39mcurrent\u001b[39m\u001b[39m\"\u001b[39m][\u001b[39m\"\u001b[39m\u001b[39mdt\u001b[39m\u001b[39m\"\u001b[39m]\n",
      "\u001b[0;31mNameError\u001b[0m: name 'citipy' is not defined"
     ]
    }
   ],
   "source": [
    "print(data)\n",
    "city_weather = data[\"current\"][\"weather\"][0][\"main\"] # The [0] here is because it seems like weather was a string? I call the first index of the string then can access the rest as a dict\n",
    "        #print(city_weather)\n",
    "        # Parse out latitude, longitude, max temp, humidity, cloudiness, wind speed, country, and date\n",
    "city_lat = data[\"lat\"]\n",
    "        #print(city_lat)\n",
    "city_lng = data[\"lon\"]\n",
    "        #print(city_lng)\n",
    "city_max_temp = data[\"daily\"][0][\"temp\"][\"max\"] #again using the [0] trick. That was a weird one to figure out.\n",
    "city_max_temp = (city_max_temp - 273.15) * 1.8 + 32 # Converting from Kelvin to Farenheit because I got way through this exercise before realizing I should have used imperial. This is easy.\n",
    "        #print(city_max_temp)\n",
    "city_humidity = data[\"daily\"][0][\"humidity\"]\n",
    "        #print(city_humidity)\n",
    "city_clouds = data[\"daily\"][0][\"clouds\"]\n",
    "        #print(city_clouds)\n",
    "city_wind = data[\"daily\"][0][\"wind_speed\"]\n",
    "        #print(city_wind)\n",
    "city_country = citipy2.nearest_city(city_lat, city_lng).country_code # I had to use a city object in order to pull country, but i only had a list of cities as strings, so i re-create it here. Seems inefficient but I couldn't solve it otherwise.\n",
    "        #print(city_country)\n",
    "city_date = data[\"current\"][\"dt\"]"
   ]
  }
 ],
 "metadata": {
  "kernelspec": {
   "display_name": "base",
   "language": "python",
   "name": "python3"
  },
  "language_info": {
   "codemirror_mode": {
    "name": "ipython",
    "version": 3
   },
   "file_extension": ".py",
   "mimetype": "text/x-python",
   "name": "python",
   "nbconvert_exporter": "python",
   "pygments_lexer": "ipython3",
   "version": "3.9.12"
  },
  "orig_nbformat": 4
 },
 "nbformat": 4,
 "nbformat_minor": 2
}
